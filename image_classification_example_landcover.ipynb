{
 "cells": [
  {
   "cell_type": "code",
   "execution_count": 63,
   "id": "5cd534cb",
   "metadata": {},
   "outputs": [],
   "source": [
    "import datetime\n",
    "import numpy as np\n",
    "import pandas as pd\n",
    "\n",
    "from numpy import genfromtxt\n",
    "\n"
   ]
  },
  {
   "cell_type": "code",
   "execution_count": 64,
   "id": "83aa1291",
   "metadata": {},
   "outputs": [
    {
     "name": "stdout",
     "output_type": "stream",
     "text": [
      "2.6.0\n",
      "1.3.3\n"
     ]
    }
   ],
   "source": [
    "import tensorflow as tf\n",
    "import xgboost as xgb\n",
    "\n",
    "print(tf.__version__)\n",
    "print(xgb.__version__)"
   ]
  },
  {
   "cell_type": "markdown",
   "id": "b45e10a0",
   "metadata": {},
   "source": [
    "# Load Data"
   ]
  },
  {
   "cell_type": "code",
   "execution_count": 80,
   "id": "56f45dd5",
   "metadata": {},
   "outputs": [
    {
     "name": "stdout",
     "output_type": "stream",
     "text": [
      "(100000, 3136)\n",
      "(100000, 6)\n"
     ]
    }
   ],
   "source": [
    "# landcover data can be accessed on kaggle website\n",
    "# https://www.kaggle.com/crawford/deepsat-sat6\n",
    "\n",
    "x_train = genfromtxt('./data/X_train_sat6.csv', delimiter=',', max_rows=10e4)\n",
    "y_train = genfromtxt('./data/y_train_sat6.csv', delimiter=',', max_rows=10e4)\n",
    "print(x_train.shape)\n",
    "print(y_train.shape)"
   ]
  },
  {
   "cell_type": "code",
   "execution_count": 81,
   "id": "510e1da1",
   "metadata": {},
   "outputs": [
    {
     "name": "stdout",
     "output_type": "stream",
     "text": [
      "(100000, 28, 28, 4)\n",
      "(100000, 6)\n"
     ]
    }
   ],
   "source": [
    "x_train = x_train.reshape(x_train.shape[0],28,28,4).astype(np.float32)\n",
    "y_train = y_train.astype(np.float32)\n",
    "print(x_train.shape)\n",
    "print(y_train.shape)"
   ]
  },
  {
   "cell_type": "code",
   "execution_count": 83,
   "id": "f348b388",
   "metadata": {},
   "outputs": [
    {
     "name": "stdout",
     "output_type": "stream",
     "text": [
      "(81000, 3136)\n",
      "(81000, 6)\n"
     ]
    }
   ],
   "source": [
    "x_val = genfromtxt('./data/X_test_sat6.csv', delimiter=',', max_rows=10e4)\n",
    "y_val = genfromtxt('./data/y_test_sat6.csv', delimiter=',', max_rows=10e4)\n",
    "print(x_val.shape)\n",
    "print(y_val.shape)"
   ]
  },
  {
   "cell_type": "code",
   "execution_count": 84,
   "id": "0f45beb6",
   "metadata": {},
   "outputs": [
    {
     "name": "stdout",
     "output_type": "stream",
     "text": [
      "(81000, 28, 28, 4)\n",
      "(81000, 6)\n"
     ]
    }
   ],
   "source": [
    "x_val = x_val.reshape(x_val.shape[0],28,28,4).astype(np.float32)\n",
    "y_val = y_val.astype(np.float32)\n",
    "print(x_val.shape)\n",
    "print(y_val.shape)"
   ]
  },
  {
   "cell_type": "code",
   "execution_count": null,
   "id": "a7fdd2bd",
   "metadata": {},
   "outputs": [],
   "source": [
    "# building,1,0,0,0,0,0\n",
    "# barren_land,0,1,0,0,0,0\n",
    "# trees,0,0,1,0,0,0\n",
    "# grassland,0,0,0,1,0,0\n",
    "# road,0,0,0,0,1,0\n",
    "# water,0,0,0,0,0,1"
   ]
  },
  {
   "cell_type": "code",
   "execution_count": null,
   "id": "398b0bf3",
   "metadata": {
    "scrolled": true
   },
   "outputs": [],
   "source": [
    "with open('./landcover_data/x_train.npy', 'wb') as f:\n",
    "    np.save(f, x_train)\n",
    "\n",
    "with open('./landcover_data/y_train.npy', 'wb') as f:\n",
    "    np.save(f, y_train)\n",
    "    \n",
    "with open('./landcover_data/x_val.npy', 'wb') as f:\n",
    "    np.save(f, x_val)\n",
    "    \n",
    "with open('./landcover_data/y_val.npy', 'wb') as f:\n",
    "    np.save(f, y_val)"
   ]
  },
  {
   "cell_type": "code",
   "execution_count": 65,
   "id": "cacf1106",
   "metadata": {},
   "outputs": [],
   "source": [
    "x_train = np.load('./data/landcover/np_full/x_train.npy')\n",
    "y_train = np.load('./data/landcover/np_full/y_train.npy')\n",
    "x_val = np.load('./data/landcover/np/x_val.npy')\n",
    "y_val = np.load('./data/landcover/np/y_val.npy')"
   ]
  },
  {
   "cell_type": "code",
   "execution_count": 66,
   "id": "8d3ae10c",
   "metadata": {},
   "outputs": [
    {
     "name": "stdout",
     "output_type": "stream",
     "text": [
      "(324000, 28, 28, 4)\n",
      "(324000, 6)\n",
      "(81000, 28, 28, 4)\n",
      "(81000, 6)\n"
     ]
    }
   ],
   "source": [
    "print(x_train.shape)\n",
    "print(y_train.shape)\n",
    "print(x_val.shape)\n",
    "print(y_val.shape)"
   ]
  },
  {
   "cell_type": "code",
   "execution_count": 67,
   "id": "193c9a2a",
   "metadata": {},
   "outputs": [
    {
     "data": {
      "text/plain": [
       "array([ 14923.,  73397.,  56809.,  50347.,   8192., 120332.],\n",
       "      dtype=float32)"
      ]
     },
     "execution_count": 67,
     "metadata": {},
     "output_type": "execute_result"
    }
   ],
   "source": [
    "# print label count; imbalanced but not too skewed\n",
    "\n",
    "count = np.sum(y_train, axis=0)\n",
    "count"
   ]
  },
  {
   "cell_type": "markdown",
   "id": "e3d8ef88",
   "metadata": {},
   "source": [
    "# Model Training With TF & Keras"
   ]
  },
  {
   "cell_type": "code",
   "execution_count": 68,
   "id": "ccdfc287",
   "metadata": {},
   "outputs": [],
   "source": [
    "import tensorflow as tf\n",
    "from tensorflow import keras as keras\n",
    "from tensorflow.keras.optimizers import Adam\n",
    "\n",
    "from tensorflow.keras import regularizers\n",
    "from tensorflow.keras.callbacks import CSVLogger, ModelCheckpoint, History, ReduceLROnPlateau, TensorBoard, EarlyStopping\n",
    "from tensorflow.keras.layers import Activation, BatchNormalization, Input, Reshape, Dense, Conv2D, Dropout\n",
    "from tensorflow.keras.models import Model, load_model\n",
    "from tensorflow.keras.metrics import CategoricalAccuracy, CategoricalCrossentropy, SensitivityAtSpecificity\n",
    "\n"
   ]
  },
  {
   "cell_type": "code",
   "execution_count": 69,
   "id": "b5825d16",
   "metadata": {},
   "outputs": [],
   "source": [
    "LR = 5e-4\n",
    "MODEL_CHECKPOINT = './snapshots/'\n",
    "LOG_DIR = './logs/'\n"
   ]
  },
  {
   "cell_type": "code",
   "execution_count": 71,
   "id": "6a6f6255",
   "metadata": {},
   "outputs": [],
   "source": [
    "# Define CNN structure\n",
    "# For the demo I'm trying to make it small by limiting the size in the dence layer\n",
    "\n",
    "# Conv2D: filters, kernal_size, padding, activation\n",
    "# Dense: fully-connected layer, usually the last 1-2 layers. # parameters\n",
    "\n",
    "# BatchNormalization: move data to proximities of origins\n",
    "# Dropout: common approach to handle overfitting in DL;\n",
    "#   zero-out a random portion of neurons for each batch; reverse dropout\n",
    "\n",
    "# activation function on the final layer \n",
    "\n",
    "def build_cnn():\n",
    "    inputs = Input(shape=(28, 28, 4,))\n",
    "    l = inputs\n",
    "    \n",
    "    l = Conv2D(\n",
    "        filters=32,kernel_size=[5,5],\n",
    "        padding='same',activation='relu', name='conv1')(l)\n",
    "    l = BatchNormalization()(l)\n",
    "    l = Dropout(0.5)(l)\n",
    "\n",
    "    \n",
    "    l = Conv2D(\n",
    "        filters=64,kernel_size=[5,5],\n",
    "        padding='same',activation='relu', name='conv2')(l)\n",
    "    l = BatchNormalization()(l)\n",
    "    \n",
    "    \n",
    "    l = Conv2D(\n",
    "        filters=32,kernel_size=[5,5],\n",
    "        padding='same',activation='relu', name='conv3')(l)\n",
    "    l = BatchNormalization()(l)\n",
    "    \n",
    "    \n",
    "    l = Conv2D(\n",
    "        filters=8,kernel_size=[5,5],\n",
    "        padding='same',activation='relu', name='conv4')(l)\n",
    "    l = BatchNormalization()(l)\n",
    "    l = Dropout(0.5)(l)\n",
    "    \n",
    "    l = Reshape((8*28*28,), name='flatten')(l)\n",
    "    l = Dense(32, activation=\"relu\", name='fc')(l)\n",
    "    l = Dense(6, activation=\"softmax\", name='main_output')(l)\n",
    "\n",
    "\n",
    "    m_cnn = Model(inputs=inputs, outputs=l)\n",
    "    print(m_cnn.summary())\n",
    "    return m_cnn\n",
    "\n",
    "\n",
    "def build_cnn2():\n",
    "    inputs = Input(shape=(28, 28, 4,))\n",
    "    l = inputs\n",
    "    \n",
    "    l = Conv2D(\n",
    "        filters=32,kernel_size=[5,5],\n",
    "        padding='same',activation='linear', name='conv1')(l)\n",
    "    l = BatchNormalization()(l)\n",
    "    l = Activation('relu')(l)\n",
    "    l = Dropout(0.5)(l)\n",
    "\n",
    "    \n",
    "    l = Conv2D(\n",
    "        filters=64,kernel_size=[5,5],\n",
    "        padding='same',activation='linear', name='conv2')(l)\n",
    "    l = BatchNormalization()(l)\n",
    "    l = Activation('relu')(l)\n",
    "\n",
    "    \n",
    "    \n",
    "    l = Conv2D(\n",
    "        filters=32,kernel_size=[5,5],\n",
    "        padding='same',activation='linear', name='conv3')(l)\n",
    "    l = BatchNormalization()(l)\n",
    "    l = Activation('relu')(l)\n",
    "\n",
    "    \n",
    "    l = Conv2D(\n",
    "        filters=8,kernel_size=[5,5],\n",
    "        padding='same',activation='linear', name='conv4')(l)\n",
    "    l = BatchNormalization()(l)\n",
    "    l = Activation('relu')(l)\n",
    "    l = Dropout(0.5)(l)\n",
    "    \n",
    "    l = Reshape((8*28*28,), name='flatten')(l)\n",
    "    l = Dense(32, activation=\"relu\", name='fc')(l)\n",
    "    l = Dense(6, activation=\"softmax\", name='main_output')(l)\n",
    "\n",
    "\n",
    "    m_cnn = Model(inputs=inputs, outputs=l)\n",
    "    print(m_cnn.summary())\n",
    "    return m_cnn\n",
    "\n",
    "# As we talked in last session, linear regression, logistic regression and softmax regression\n",
    "# can be easily represented in the neural network format\n",
    "def demo_softmax():\n",
    "    inputs = Input(shape=(28, 28, 4,))\n",
    "    l = inputs\n",
    "    l = Reshape((4*28*28,), name='flatten')(l)\n",
    "    l = Dense(6, activation=\"softmax\", name='main_output')(l)\n",
    "\n",
    "    m_softmax_model = Model(inputs=inputs, outputs=l)\n",
    "    print(m_softmax_model.summary())\n",
    "    return m_softmax_model\n"
   ]
  },
  {
   "cell_type": "code",
   "execution_count": 72,
   "id": "f01125af",
   "metadata": {},
   "outputs": [
    {
     "name": "stdout",
     "output_type": "stream",
     "text": [
      "Model: \"model_4\"\n",
      "_________________________________________________________________\n",
      "Layer (type)                 Output Shape              Param #   \n",
      "=================================================================\n",
      "input_4 (InputLayer)         [(None, 28, 28, 4)]       0         \n",
      "_________________________________________________________________\n",
      "flatten (Reshape)            (None, 3136)              0         \n",
      "_________________________________________________________________\n",
      "main_output (Dense)          (None, 6)                 18822     \n",
      "=================================================================\n",
      "Total params: 18,822\n",
      "Trainable params: 18,822\n",
      "Non-trainable params: 0\n",
      "_________________________________________________________________\n",
      "None\n"
     ]
    },
    {
     "data": {
      "text/plain": [
       "<keras.engine.functional.Functional at 0x7fd74b3c02d0>"
      ]
     },
     "execution_count": 72,
     "metadata": {},
     "output_type": "execute_result"
    }
   ],
   "source": [
    "demo_softmax()"
   ]
  },
  {
   "cell_type": "code",
   "execution_count": 73,
   "id": "31b20b4e",
   "metadata": {},
   "outputs": [
    {
     "name": "stdout",
     "output_type": "stream",
     "text": [
      "Model: \"model_5\"\n",
      "_________________________________________________________________\n",
      "Layer (type)                 Output Shape              Param #   \n",
      "=================================================================\n",
      "input_5 (InputLayer)         [(None, 28, 28, 4)]       0         \n",
      "_________________________________________________________________\n",
      "conv1 (Conv2D)               (None, 28, 28, 32)        3232      \n",
      "_________________________________________________________________\n",
      "batch_normalization_8 (Batch (None, 28, 28, 32)        128       \n",
      "_________________________________________________________________\n",
      "dropout_4 (Dropout)          (None, 28, 28, 32)        0         \n",
      "_________________________________________________________________\n",
      "conv2 (Conv2D)               (None, 28, 28, 64)        51264     \n",
      "_________________________________________________________________\n",
      "batch_normalization_9 (Batch (None, 28, 28, 64)        256       \n",
      "_________________________________________________________________\n",
      "conv3 (Conv2D)               (None, 28, 28, 32)        51232     \n",
      "_________________________________________________________________\n",
      "batch_normalization_10 (Batc (None, 28, 28, 32)        128       \n",
      "_________________________________________________________________\n",
      "conv4 (Conv2D)               (None, 28, 28, 8)         6408      \n",
      "_________________________________________________________________\n",
      "batch_normalization_11 (Batc (None, 28, 28, 8)         32        \n",
      "_________________________________________________________________\n",
      "dropout_5 (Dropout)          (None, 28, 28, 8)         0         \n",
      "_________________________________________________________________\n",
      "flatten (Reshape)            (None, 6272)              0         \n",
      "_________________________________________________________________\n",
      "fc (Dense)                   (None, 32)                200736    \n",
      "_________________________________________________________________\n",
      "main_output (Dense)          (None, 6)                 198       \n",
      "=================================================================\n",
      "Total params: 313,614\n",
      "Trainable params: 313,342\n",
      "Non-trainable params: 272\n",
      "_________________________________________________________________\n",
      "None\n"
     ]
    },
    {
     "data": {
      "text/plain": [
       "<keras.engine.functional.Functional at 0x7fd71a65f090>"
      ]
     },
     "execution_count": 73,
     "metadata": {},
     "output_type": "execute_result"
    }
   ],
   "source": [
    "build_cnn()"
   ]
  },
  {
   "cell_type": "code",
   "execution_count": 75,
   "id": "82826d76",
   "metadata": {},
   "outputs": [],
   "source": [
    "def model_train(X_train, y_train, X_val, y_val, model, key):\n",
    "    print(model.summary())\n",
    "\n",
    "    # model saved at file_path\n",
    "    file_path = MODEL_CHECKPOINT + key + datetime.datetime.now().strftime(\"%Y%m%d-%H%M%S\")\n",
    "    # tensorboard logged at log_dir\n",
    "    log_dir = LOG_DIR + key + '/' + datetime.datetime.now().strftime(\"%Y%m%d-%H%M%S\")\n",
    "\n",
    "    # a bunch of callbacks: something to do at the end of each episode/specified number of batches\n",
    "    history = History()\n",
    "    tensor_board = TensorBoard(\n",
    "        log_dir, histogram_freq=1, update_freq='epoch', write_graph=False)\n",
    "    reduce_lr = ReduceLROnPlateau(monitor='val_loss', factor=0.5, patience=1, min_lr=1e-5)\n",
    "    checkpoint = ModelCheckpoint(\n",
    "        file_path, monitor='val_loss',\n",
    "        verbose=1, save_best_only=True, mode='min', save_freq=\"epoch\")\n",
    "    early_stop = EarlyStopping(\n",
    "        monitor=\"val_loss\", min_delta=0, patience=3,\n",
    "        verbose=0, mode=\"auto\", baseline=None, restore_best_weights=True\n",
    "    )\n",
    "    csv_logger = CSVLogger('training_log.csv')\n",
    "\n",
    "    callbacks_list = [history, tensor_board, reduce_lr, checkpoint, early_stop]\n",
    "\n",
    "    # optimizer: gradient descent implementation\n",
    "    adam_wn = Adam(learning_rate=LR)\n",
    "    \n",
    "    # compile model with loss and optimizer; loss function needs to match the intention and the output of the last layer\n",
    "    model.compile(\n",
    "        loss=\"categorical_crossentropy\", optimizer=adam_wn,\n",
    "        metrics=[CategoricalAccuracy(), SensitivityAtSpecificity(specificity=0.99, class_id=4)]\n",
    "    )\n",
    "    \n",
    "    # kick off model training\n",
    "    model.fit(\n",
    "        x=X_train, y=y_train, validation_data=(X_val, y_val), batch_size=128,\n",
    "        epochs=40, verbose=1, shuffle=False,\n",
    "        callbacks=callbacks_list)\n",
    "    # model.save(file_path)\n",
    "\n",
    "    return (model, history)\n"
   ]
  },
  {
   "cell_type": "code",
   "execution_count": 76,
   "id": "cccea6d2",
   "metadata": {},
   "outputs": [
    {
     "name": "stdout",
     "output_type": "stream",
     "text": [
      "Model: \"model_7\"\n",
      "_________________________________________________________________\n",
      "Layer (type)                 Output Shape              Param #   \n",
      "=================================================================\n",
      "input_7 (InputLayer)         [(None, 28, 28, 4)]       0         \n",
      "_________________________________________________________________\n",
      "conv1 (Conv2D)               (None, 28, 28, 32)        3232      \n",
      "_________________________________________________________________\n",
      "batch_normalization_16 (Batc (None, 28, 28, 32)        128       \n",
      "_________________________________________________________________\n",
      "activation_4 (Activation)    (None, 28, 28, 32)        0         \n",
      "_________________________________________________________________\n",
      "dropout_8 (Dropout)          (None, 28, 28, 32)        0         \n",
      "_________________________________________________________________\n",
      "conv2 (Conv2D)               (None, 28, 28, 64)        51264     \n",
      "_________________________________________________________________\n",
      "batch_normalization_17 (Batc (None, 28, 28, 64)        256       \n",
      "_________________________________________________________________\n",
      "activation_5 (Activation)    (None, 28, 28, 64)        0         \n",
      "_________________________________________________________________\n",
      "conv3 (Conv2D)               (None, 28, 28, 32)        51232     \n",
      "_________________________________________________________________\n",
      "batch_normalization_18 (Batc (None, 28, 28, 32)        128       \n",
      "_________________________________________________________________\n",
      "activation_6 (Activation)    (None, 28, 28, 32)        0         \n",
      "_________________________________________________________________\n",
      "conv4 (Conv2D)               (None, 28, 28, 8)         6408      \n",
      "_________________________________________________________________\n",
      "batch_normalization_19 (Batc (None, 28, 28, 8)         32        \n",
      "_________________________________________________________________\n",
      "activation_7 (Activation)    (None, 28, 28, 8)         0         \n",
      "_________________________________________________________________\n",
      "dropout_9 (Dropout)          (None, 28, 28, 8)         0         \n",
      "_________________________________________________________________\n",
      "flatten (Reshape)            (None, 6272)              0         \n",
      "_________________________________________________________________\n",
      "fc (Dense)                   (None, 32)                200736    \n",
      "_________________________________________________________________\n",
      "main_output (Dense)          (None, 6)                 198       \n",
      "=================================================================\n",
      "Total params: 313,614\n",
      "Trainable params: 313,342\n",
      "Non-trainable params: 272\n",
      "_________________________________________________________________\n",
      "None\n"
     ]
    }
   ],
   "source": [
    "my_model = build_cnn2()\n"
   ]
  },
  {
   "cell_type": "code",
   "execution_count": null,
   "id": "5b0cd318",
   "metadata": {},
   "outputs": [],
   "source": [
    "model_train(x_train, y_train, x_val, y_val, my_model, key='model2')"
   ]
  },
  {
   "cell_type": "markdown",
   "id": "0f14d953",
   "metadata": {},
   "source": [
    "# TensorBoard Demo"
   ]
  },
  {
   "cell_type": "markdown",
   "id": "209a2161",
   "metadata": {},
   "source": [
    "To show tensor board, go to the root directory that contains TensorFlow logs and type:\n",
    "\n",
    "    tensorboard --logdir ./yourLogDirName\n"
   ]
  },
  {
   "cell_type": "markdown",
   "id": "dd49b447",
   "metadata": {},
   "source": [
    "# Load Model and Run Predictions"
   ]
  },
  {
   "cell_type": "code",
   "execution_count": 9,
   "id": "c7869301",
   "metadata": {},
   "outputs": [
    {
     "name": "stderr",
     "output_type": "stream",
     "text": [
      "2021-09-21 14:39:41.178554: I tensorflow/core/platform/cpu_feature_guard.cc:142] This TensorFlow binary is optimized with oneAPI Deep Neural Network Library (oneDNN) to use the following CPU instructions in performance-critical operations:  AVX2 FMA\n",
      "To enable them in other operations, rebuild TensorFlow with the appropriate compiler flags.\n"
     ]
    }
   ],
   "source": [
    "loaded_model = load_model('/Users/lzhao/strava/ML101/snapshots/toy_model220210921-121401')\n"
   ]
  },
  {
   "cell_type": "code",
   "execution_count": 12,
   "id": "631404be",
   "metadata": {},
   "outputs": [],
   "source": [
    "prob0 = loaded_model.predict(x_val[0:10])\n",
    "y_pred0 = np.argmax(prob0, axis=1).reshape(-1)\n",
    "y_true0 = np.argmax(y_val[0:10], axis=1).reshape(-1)"
   ]
  },
  {
   "cell_type": "code",
   "execution_count": 13,
   "id": "5d47669b",
   "metadata": {},
   "outputs": [
    {
     "name": "stdout",
     "output_type": "stream",
     "text": [
      "[2 2 5 1 5 2 5 1 5 5]\n",
      "[2 2 5 1 5 2 5 1 5 5]\n"
     ]
    }
   ],
   "source": [
    "print(y_pred0)\n",
    "print(y_true0)"
   ]
  },
  {
   "cell_type": "code",
   "execution_count": 21,
   "id": "41a7b72a",
   "metadata": {},
   "outputs": [],
   "source": [
    "prob = loaded_model.predict(x_val)\n",
    "y_pred = np.argmax(prob, axis=1).reshape(-1)\n",
    "y_true = np.argmax(y_val, axis=1).reshape(-1)"
   ]
  },
  {
   "cell_type": "markdown",
   "id": "52940796",
   "metadata": {},
   "source": [
    "# Plot Performance"
   ]
  },
  {
   "cell_type": "code",
   "execution_count": 55,
   "id": "b2b87520",
   "metadata": {},
   "outputs": [],
   "source": [
    "from sklearn.metrics import confusion_matrix\n",
    "CATEGORIES = [0, 1, 2, 3, 4, 5]\n",
    "NAMES = ['Building', 'BarrenLand', 'Trees', 'Grassland', 'Road', 'Water']\n"
   ]
  },
  {
   "cell_type": "code",
   "execution_count": null,
   "id": "04cb154b",
   "metadata": {},
   "outputs": [],
   "source": [
    "tf_cm = confusion_matrix(y_true=y_true, y_pred=y_pred, labels=CATEGORIES)"
   ]
  },
  {
   "cell_type": "code",
   "execution_count": 57,
   "id": "fc105adf",
   "metadata": {},
   "outputs": [],
   "source": [
    "import itertools\n",
    "import matplotlib\n",
    "\n",
    "def plot_confusion_matrix(cm,\n",
    "                          target_names,\n",
    "                          title='Confusion matrix',\n",
    "                          cmap=None,\n",
    "                          normalize=True):\n",
    "    \"\"\"\n",
    "    given a sklearn confusion matrix (cm), make a nice plot\n",
    "\n",
    "    Arguments\n",
    "    ---------\n",
    "    cm:           confusion matrix from sklearn.metrics.confusion_matrix\n",
    "\n",
    "    target_names: given classification classes such as [0, 1, 2]\n",
    "                  the class names, for example: ['high', 'medium', 'low']\n",
    "\n",
    "    title:        the text to display at the top of the matrix\n",
    "\n",
    "    cmap:         the gradient of the values displayed from matplotlib.pyplot.cm\n",
    "                  see http://matplotlib.org/examples/color/colormaps_reference.html\n",
    "                  plt.get_cmap('jet') or plt.cm.Blues\n",
    "\n",
    "    normalize:    If False, plot the raw numbers\n",
    "                  If True, plot the proportions\n",
    "\n",
    "    Usage\n",
    "    -----\n",
    "    plot_confusion_matrix(cm           = cm,                  # confusion matrix created by\n",
    "                                                              # sklearn.metrics.confusion_matrix\n",
    "                          normalize    = True,                # show proportions\n",
    "                          target_names = y_labels_vals,       # list of names of the classes\n",
    "                          title        = best_estimator_name) # title of graph\n",
    "\n",
    "    Citiation\n",
    "    ---------\n",
    "    http://scikit-learn.org/stable/auto_examples/model_selection/plot_confusion_matrix.html\n",
    "\n",
    "    \"\"\"\n",
    "    import matplotlib.pyplot as plt\n",
    "\n",
    "    accuracy = np.trace(cm) / float(np.sum(cm))\n",
    "    misclass = 1 - accuracy\n",
    "\n",
    "    if cmap is None:\n",
    "        cmap = plt.get_cmap('Blues')\n",
    "\n",
    "    plt.figure(figsize=(8, 6))\n",
    "    plt.imshow(cm, interpolation='nearest', cmap=cmap)\n",
    "    plt.title(title)\n",
    "    plt.colorbar()\n",
    "\n",
    "    if target_names is not None:\n",
    "        tick_marks = np.arange(len(target_names))\n",
    "        plt.xticks(tick_marks, target_names, rotation=45)\n",
    "        plt.yticks(tick_marks, target_names)\n",
    "\n",
    "    if normalize:\n",
    "        cm = cm.astype('float') / cm.sum(axis=1)[:, np.newaxis]\n",
    "\n",
    "    thresh = cm.max() / 1.5 if normalize else cm.max() / 2\n",
    "    for i, j in itertools.product(range(cm.shape[0]), range(cm.shape[1])):\n",
    "        if normalize:\n",
    "            plt.text(j, i, \"{:0.4f}\".format(cm[i, j]),\n",
    "                     horizontalalignment=\"center\",\n",
    "                     color=\"white\" if cm[i, j] > thresh else \"black\")\n",
    "        else:\n",
    "            plt.text(j, i, \"{:,}\".format(cm[i, j]),\n",
    "                     horizontalalignment=\"center\",\n",
    "                     color=\"white\" if cm[i, j] > thresh else \"black\")\n",
    "\n",
    "    plt.tight_layout()\n",
    "    plt.ylabel('True label')\n",
    "    plt.xlabel('Predicted label\\naccuracy={:0.4f}; misclass={:0.4f}'.format(accuracy, misclass))\n",
    "    plt.show()"
   ]
  },
  {
   "cell_type": "code",
   "execution_count": 25,
   "id": "15d4c40a",
   "metadata": {},
   "outputs": [
    {
     "data": {
      "image/png": "[encoded data removed]",
      "text/plain": [
       "<Figure size 576x432 with 2 Axes>"
      ]
     },
     "metadata": {
      "needs_background": "light"
     },
     "output_type": "display_data"
    }
   ],
   "source": [
    "plot_confusion_matrix(\n",
    "    cm=tf_cm,\n",
    "    target_names=NAMES,\n",
    "    title='CNN Confusion Matrix',\n",
    "    cmap=None,\n",
    "    normalize=True)"
   ]
  },
  {
   "cell_type": "code",
   "execution_count": 26,
   "id": "b3f0928e",
   "metadata": {},
   "outputs": [
    {
     "data": {
      "image/png": "[encoded data removed]",
      "text/plain": [
       "<Figure size 576x432 with 2 Axes>"
      ]
     },
     "metadata": {
      "needs_background": "light"
     },
     "output_type": "display_data"
    }
   ],
   "source": [
    "plot_confusion_matrix(\n",
    "    cm=tf_cm,\n",
    "    target_names=NAMES,\n",
    "    title='CNN Confusion Matrix',\n",
    "    cmap=None,\n",
    "    normalize=False)"
   ]
  },
  {
   "cell_type": "code",
   "execution_count": 31,
   "id": "f0bfa66b",
   "metadata": {},
   "outputs": [],
   "source": [
    "import matplotlib.pyplot as plt\n",
    "import math\n",
    "import numpy as np\n",
    "\n",
    "def plot_histogram(p, axs, list1, my_title='Score Distribution', color='r'):\n",
    "    # list1 is a tuple where list1[0] is numpy array of bucket and list1[1] is numpy array of frequency\n",
    "    x_axis = np.array(list1[0])\n",
    "    bar_width = 1.0 / len(list1[0]) * 0.6\n",
    "    opacity = 1\n",
    "    rects1 = axs.bar(list1[0], list1[1], bar_width,\n",
    "                     alpha=opacity,\n",
    "                     color=color,\n",
    "                     label=\"Distribution\")\n",
    "    p.title(my_title)\n",
    "    p.xticks(rotation=90)\n",
    "    p.xticks(x_axis, list(map(lambda v: '{:6.2f}'.format(v), list1[0])))\n",
    "    axs.ylabel(\"Percent\")\n",
    "    axs.xlabel(\"Score\")\n",
    "    # axs.xlabel(\"Error In %\")\n",
    "    axs.legend()\n",
    "    \n",
    "def plot_histogram_wrapper(scores, title, color):\n",
    "    p_histogram = np.histogram(scores,bins=10) \n",
    "\n",
    "    list_p = []\n",
    "    p_freq = p_histogram[0] / sum(p_histogram[0]) * 100\n",
    "    list_p.append(p_histogram[1][1:])\n",
    "    list_p.append(p_freq)\n",
    "\n",
    "    plot_histogram(plt, plt, list_p, my_title=title, color=color)\n",
    "    plt.show()\n"
   ]
  },
  {
   "cell_type": "code",
   "execution_count": 29,
   "id": "c68c1d5b",
   "metadata": {},
   "outputs": [],
   "source": [
    "grassland_scores = prob[y_true==3, 3] \n",
    "road_scores = prob[y_true==4, 4]\n"
   ]
  },
  {
   "cell_type": "code",
   "execution_count": 32,
   "id": "e0ad74e5",
   "metadata": {},
   "outputs": [
    {
     "data": {
      "image/png": "[encoded data removed]",
      "text/plain": [
       "<Figure size 432x288 with 1 Axes>"
      ]
     },
     "metadata": {
      "needs_background": "light"
     },
     "output_type": "display_data"
    },
    {
     "data": {
      "image/png": "[encoded data removed]",
      "text/plain": [
       "<Figure size 432x288 with 1 Axes>"
      ]
     },
     "metadata": {
      "needs_background": "light"
     },
     "output_type": "display_data"
    }
   ],
   "source": [
    "plot_histogram_wrapper(grassland_scores, 'Grassland Score Distribution', 'r')\n",
    "plot_histogram_wrapper(road_scores, 'Road Score Distribution', 'b')"
   ]
  },
  {
   "cell_type": "markdown",
   "id": "7687612e",
   "metadata": {},
   "source": [
    "# CNN + Xgboost"
   ]
  },
  {
   "cell_type": "code",
   "execution_count": 14,
   "id": "bb9e78d4",
   "metadata": {},
   "outputs": [
    {
     "name": "stdout",
     "output_type": "stream",
     "text": [
      "input_4\n",
      "conv1\n",
      "batch_normalization_4\n",
      "dropout_2\n",
      "conv2\n",
      "batch_normalization_5\n",
      "conv3\n",
      "batch_normalization_6\n",
      "conv4\n",
      "batch_normalization_7\n",
      "dropout_3\n",
      "flatten\n",
      "fc\n",
      "main_output\n"
     ]
    }
   ],
   "source": [
    "for layer in loaded_model.layers:\n",
    "    print (layer._name)"
   ]
  },
  {
   "cell_type": "code",
   "execution_count": 15,
   "id": "9c05eed1",
   "metadata": {},
   "outputs": [
    {
     "data": {
      "text/plain": [
       "TensorShape([None, 32])"
      ]
     },
     "execution_count": 15,
     "metadata": {},
     "output_type": "execute_result"
    }
   ],
   "source": [
    "new_output = loaded_model.get_layer('fc').output\n",
    "new_output.shape"
   ]
  },
  {
   "cell_type": "code",
   "execution_count": 16,
   "id": "7ba1a9f9",
   "metadata": {},
   "outputs": [],
   "source": [
    "new_model = Model(inputs=loaded_model.input, outputs=new_output)"
   ]
  },
  {
   "cell_type": "code",
   "execution_count": 17,
   "id": "2fa97ecb",
   "metadata": {},
   "outputs": [
    {
     "data": {
      "text/plain": [
       "array([[ 0.        ,  2.91846   ,  5.6293173 ,  0.        ,  0.        ,\n",
       "         0.        , 35.065144  ,  0.        ,  0.        , 18.154335  ,\n",
       "        26.523943  ,  0.        ,  0.11906734, 20.268232  ,  0.        ,\n",
       "         0.        ,  0.        ,  0.        , 40.901863  ,  0.4471055 ,\n",
       "         0.        ,  0.        , 18.755348  ,  4.3161387 ,  0.        ,\n",
       "         0.        , 26.47519   ,  0.        ,  0.        ,  0.        ,\n",
       "         0.        ,  0.        ]], dtype=float32)"
      ]
     },
     "execution_count": 17,
     "metadata": {},
     "output_type": "execute_result"
    }
   ],
   "source": [
    "new_model.predict(x_val[0:1,:,:,:])"
   ]
  },
  {
   "cell_type": "code",
   "execution_count": 18,
   "id": "be155cd4",
   "metadata": {},
   "outputs": [],
   "source": [
    "# Use the output of new_model as input to Xgboost\n",
    "# Equaivalently we are replacing the softmax regression in the original CNN with an Xgboost\n",
    "\n"
   ]
  },
  {
   "cell_type": "code",
   "execution_count": 19,
   "id": "d20cc99d",
   "metadata": {},
   "outputs": [],
   "source": [
    "import matplotlib.pyplot as plt\n",
    "import xgboost as xgb\n",
    "from xgboost import XGBClassifier\n"
   ]
  },
  {
   "cell_type": "code",
   "execution_count": 30,
   "id": "72055f46",
   "metadata": {},
   "outputs": [],
   "source": [
    "# for demo only. In reality we should consider about potential data leakage introduced by reusing the same training data\n",
    "\n",
    "xgb_x_train = new_model.predict(x_train)\n",
    "xgb_x_val = new_model.predict(x_val)"
   ]
  },
  {
   "cell_type": "code",
   "execution_count": 31,
   "id": "f85e768d",
   "metadata": {},
   "outputs": [
    {
     "name": "stdout",
     "output_type": "stream",
     "text": [
      "(100000, 32)\n",
      "(81000, 32)\n"
     ]
    }
   ],
   "source": [
    "print(xgb_x_train.shape)\n",
    "print(xgb_x_val.shape)"
   ]
  },
  {
   "cell_type": "code",
   "execution_count": 41,
   "id": "6e5ad6f5",
   "metadata": {},
   "outputs": [
    {
     "name": "stdout",
     "output_type": "stream",
     "text": [
      "{'objective': 'multi:softprob', 'base_score': 0.5, 'booster': 'gbtree', 'colsample_bylevel': None, 'colsample_bynode': 1, 'colsample_bytree': 0.9, 'gamma': 1, 'gpu_id': None, 'interaction_constraints': None, 'learning_rate': 0.3, 'max_delta_step': None, 'max_depth': 6, 'min_child_weight': 1, 'monotone_constraints': None, 'n_jobs': None, 'num_parallel_tree': None, 'random_state': 0, 'reg_alpha': 0, 'reg_lambda': 1, 'scale_pos_weight': None, 'subsample': 0.9, 'tree_method': 'hist', 'validate_parameters': None, 'verbosity': 1, 'num_class': 6, 'seed': 1234}\n"
     ]
    }
   ],
   "source": [
    "xgb_model = XGBClassifier(\n",
    "    base_score=0.5,\n",
    "    objective='multi:softprob',\n",
    "    num_class=6,\n",
    "    \n",
    "    gamma=1,\n",
    "    max_depth=6,\n",
    "    learning_rate=0.3, \n",
    "    min_child_weight=1,\n",
    "    n_estimators=2000,\n",
    "    subsample=0.9,\n",
    "    colsample_bynode=1,\n",
    "    colsample_bytree=0.9,\n",
    "    reg_alpha=0,\n",
    "    reg_lambda=1,\n",
    "\n",
    "    random_state=0,\n",
    "    booster='gbtree',\n",
    "    tree_method='hist',\n",
    "    seed=1234,\n",
    "    missing=None,\n",
    "    verbosity=1\n",
    ")\n",
    "\n",
    "print(xgb_model.get_xgb_params())\n",
    "\n"
   ]
  },
  {
   "cell_type": "code",
   "execution_count": 33,
   "id": "7fa8707f",
   "metadata": {},
   "outputs": [],
   "source": [
    "xgb_y_train = np.argmax(y_train, axis=1).reshape(-1)\n",
    "xgb_y_val = np.argmax(y_val, axis=1).reshape(-1)"
   ]
  },
  {
   "cell_type": "code",
   "execution_count": 26,
   "id": "a20fc2ba",
   "metadata": {},
   "outputs": [],
   "source": [
    "# xgb_x_train = xgb_x_train.astype(dtype=np.float32)\n",
    "# xgb_y_train = xgb_y_train.astype(dtype=np.float32)"
   ]
  },
  {
   "cell_type": "code",
   "execution_count": 42,
   "id": "e749a71d",
   "metadata": {},
   "outputs": [
    {
     "name": "stdout",
     "output_type": "stream",
     "text": [
      "[0]\tvalidation_0-merror:0.00800\tvalidation_0-mlogloss:1.00617\n",
      "[1]\tvalidation_0-merror:0.00754\tvalidation_0-mlogloss:0.68733\n",
      "[2]\tvalidation_0-merror:0.00724\tvalidation_0-mlogloss:0.49090\n",
      "[3]\tvalidation_0-merror:0.00704\tvalidation_0-mlogloss:0.35880\n",
      "[4]\tvalidation_0-merror:0.00681\tvalidation_0-mlogloss:0.26619\n",
      "[5]\tvalidation_0-merror:0.00648\tvalidation_0-mlogloss:0.20026\n",
      "[6]\tvalidation_0-merror:0.00639\tvalidation_0-mlogloss:0.15254\n",
      "[7]\tvalidation_0-merror:0.00624\tvalidation_0-mlogloss:0.11782\n",
      "[8]\tvalidation_0-merror:0.00625\tvalidation_0-mlogloss:0.09247\n",
      "[9]\tvalidation_0-merror:0.00620\tvalidation_0-mlogloss:0.07385\n",
      "[10]\tvalidation_0-merror:0.00620\tvalidation_0-mlogloss:0.06006\n",
      "[11]\tvalidation_0-merror:0.00625\tvalidation_0-mlogloss:0.04993\n",
      "[12]\tvalidation_0-merror:0.00611\tvalidation_0-mlogloss:0.04238\n",
      "[13]\tvalidation_0-merror:0.00602\tvalidation_0-mlogloss:0.03673\n",
      "[14]\tvalidation_0-merror:0.00596\tvalidation_0-mlogloss:0.03246\n",
      "[15]\tvalidation_0-merror:0.00588\tvalidation_0-mlogloss:0.02935\n",
      "[16]\tvalidation_0-merror:0.00584\tvalidation_0-mlogloss:0.02698\n",
      "[17]\tvalidation_0-merror:0.00589\tvalidation_0-mlogloss:0.02526\n",
      "[18]\tvalidation_0-merror:0.00586\tvalidation_0-mlogloss:0.02399\n",
      "[19]\tvalidation_0-merror:0.00586\tvalidation_0-mlogloss:0.02300\n",
      "[20]\tvalidation_0-merror:0.00584\tvalidation_0-mlogloss:0.02225\n",
      "[21]\tvalidation_0-merror:0.00583\tvalidation_0-mlogloss:0.02168\n",
      "[22]\tvalidation_0-merror:0.00583\tvalidation_0-mlogloss:0.02127\n",
      "[23]\tvalidation_0-merror:0.00584\tvalidation_0-mlogloss:0.02093\n",
      "[24]\tvalidation_0-merror:0.00579\tvalidation_0-mlogloss:0.02068\n",
      "[25]\tvalidation_0-merror:0.00577\tvalidation_0-mlogloss:0.02047\n",
      "[26]\tvalidation_0-merror:0.00579\tvalidation_0-mlogloss:0.02030\n",
      "[27]\tvalidation_0-merror:0.00580\tvalidation_0-mlogloss:0.02017\n",
      "[28]\tvalidation_0-merror:0.00579\tvalidation_0-mlogloss:0.02005\n",
      "[29]\tvalidation_0-merror:0.00579\tvalidation_0-mlogloss:0.01998\n",
      "[30]\tvalidation_0-merror:0.00579\tvalidation_0-mlogloss:0.01993\n",
      "[31]\tvalidation_0-merror:0.00579\tvalidation_0-mlogloss:0.01982\n",
      "[32]\tvalidation_0-merror:0.00578\tvalidation_0-mlogloss:0.01976\n",
      "[33]\tvalidation_0-merror:0.00581\tvalidation_0-mlogloss:0.01970\n",
      "[34]\tvalidation_0-merror:0.00583\tvalidation_0-mlogloss:0.01966\n",
      "[35]\tvalidation_0-merror:0.00574\tvalidation_0-mlogloss:0.01965\n",
      "[36]\tvalidation_0-merror:0.00570\tvalidation_0-mlogloss:0.01963\n",
      "[37]\tvalidation_0-merror:0.00567\tvalidation_0-mlogloss:0.01963\n",
      "[38]\tvalidation_0-merror:0.00558\tvalidation_0-mlogloss:0.01958\n",
      "[39]\tvalidation_0-merror:0.00562\tvalidation_0-mlogloss:0.01957\n",
      "[40]\tvalidation_0-merror:0.00563\tvalidation_0-mlogloss:0.01956\n",
      "[41]\tvalidation_0-merror:0.00560\tvalidation_0-mlogloss:0.01955\n",
      "[42]\tvalidation_0-merror:0.00559\tvalidation_0-mlogloss:0.01952\n",
      "[43]\tvalidation_0-merror:0.00560\tvalidation_0-mlogloss:0.01954\n",
      "[44]\tvalidation_0-merror:0.00558\tvalidation_0-mlogloss:0.01955\n",
      "[45]\tvalidation_0-merror:0.00560\tvalidation_0-mlogloss:0.01956\n",
      "[46]\tvalidation_0-merror:0.00558\tvalidation_0-mlogloss:0.01954\n",
      "[47]\tvalidation_0-merror:0.00556\tvalidation_0-mlogloss:0.01952\n",
      "[48]\tvalidation_0-merror:0.00560\tvalidation_0-mlogloss:0.01954\n",
      "[49]\tvalidation_0-merror:0.00559\tvalidation_0-mlogloss:0.01954\n",
      "[50]\tvalidation_0-merror:0.00559\tvalidation_0-mlogloss:0.01957\n",
      "[51]\tvalidation_0-merror:0.00559\tvalidation_0-mlogloss:0.01957\n",
      "[52]\tvalidation_0-merror:0.00556\tvalidation_0-mlogloss:0.01960\n"
     ]
    }
   ],
   "source": [
    "trained = xgb_model.fit(\n",
    "    xgb_x_train, xgb_y_train,\n",
    "    early_stopping_rounds=10,\n",
    "    # the last metric is used for early stopping\n",
    "    eval_metric=[\"merror\", \"mlogloss\"],\n",
    "    eval_set=[(xgb_x_val, xgb_y_val)], verbose=True)"
   ]
  },
  {
   "cell_type": "code",
   "execution_count": 38,
   "id": "de616ea6",
   "metadata": {},
   "outputs": [],
   "source": [
    "import pickle\n",
    "pickle.dump(trained, open('xgb_model', \"wb\"))"
   ]
  },
  {
   "cell_type": "code",
   "execution_count": 46,
   "id": "68bbb109",
   "metadata": {},
   "outputs": [],
   "source": [
    "xgb_y_pred = trained.predict(xgb_x_val)"
   ]
  },
  {
   "cell_type": "code",
   "execution_count": 59,
   "id": "6a5edd12",
   "metadata": {},
   "outputs": [],
   "source": [
    "xgb_cm = confusion_matrix(y_true=xgb_y_val, y_pred=xgb_y_pred, labels=CATEGORIES)"
   ]
  },
  {
   "cell_type": "code",
   "execution_count": 60,
   "id": "5d21d20c",
   "metadata": {},
   "outputs": [
    {
     "data": {
      "image/png": "[encoded data removed]",
      "text/plain": [
       "<Figure size 576x432 with 2 Axes>"
      ]
     },
     "metadata": {
      "needs_background": "light"
     },
     "output_type": "display_data"
    }
   ],
   "source": [
    "plot_confusion_matrix(\n",
    "    cm=xgb_cm,\n",
    "    target_names=NAMES,\n",
    "    title='CNN+XGB Confusion Matrix',\n",
    "    cmap=None,\n",
    "    normalize=True)"
   ]
  },
  {
   "cell_type": "code",
   "execution_count": null,
   "id": "a354543a",
   "metadata": {},
   "outputs": [],
   "source": []
  }
 ],
 "metadata": {
  "kernelspec": {
   "display_name": "Python 3 (ipykernel)",
   "language": "python",
   "name": "python3"
  },
  "language_info": {
   "codemirror_mode": {
    "name": "ipython",
    "version": 3
   },
   "file_extension": ".py",
   "mimetype": "text/x-python",
   "name": "python",
   "nbconvert_exporter": "python",
   "pygments_lexer": "ipython3",
   "version": "3.7.11"
  }
 },
 "nbformat": 4,
 "nbformat_minor": 5
}
