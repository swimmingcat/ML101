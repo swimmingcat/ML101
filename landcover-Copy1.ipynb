{
 "cells": [
  {
   "cell_type": "code",
   "execution_count": 1,
   "id": "5cd534cb",
   "metadata": {},
   "outputs": [],
   "source": [
    "import datetime\n",
    "import numpy as np\n",
    "import pandas as pd\n",
    "\n",
    "from numpy import genfromtxt\n",
    "\n"
   ]
  },
  {
   "cell_type": "code",
   "execution_count": 80,
   "id": "56f45dd5",
   "metadata": {},
   "outputs": [
    {
     "name": "stdout",
     "output_type": "stream",
     "text": [
      "(100000, 3136)\n",
      "(100000, 6)\n"
     ]
    }
   ],
   "source": [
    "# landcover data can be accessed on kaggle website\n",
    "# https://www.kaggle.com/crawford/deepsat-sat6\n",
    "\n",
    "x_train = genfromtxt('./data/X_train_sat6.csv', delimiter=',', max_rows=10e4)\n",
    "y_train = genfromtxt('./data/y_train_sat6.csv', delimiter=',', max_rows=10e4)\n",
    "print(x_train.shape)\n",
    "print(y_train.shape)"
   ]
  },
  {
   "cell_type": "code",
   "execution_count": 81,
   "id": "510e1da1",
   "metadata": {},
   "outputs": [
    {
     "name": "stdout",
     "output_type": "stream",
     "text": [
      "(100000, 28, 28, 4)\n",
      "(100000, 6)\n"
     ]
    }
   ],
   "source": [
    "x_train = x_train.reshape(x_train.shape[0],28,28,4).astype(np.float32)\n",
    "y_train = y_train.astype(np.float32)\n",
    "print(x_train.shape)\n",
    "print(y_train.shape)"
   ]
  },
  {
   "cell_type": "code",
   "execution_count": 83,
   "id": "f348b388",
   "metadata": {},
   "outputs": [
    {
     "name": "stdout",
     "output_type": "stream",
     "text": [
      "(81000, 3136)\n",
      "(81000, 6)\n"
     ]
    }
   ],
   "source": [
    "x_val = genfromtxt('./data/X_test_sat6.csv', delimiter=',', max_rows=10e4)\n",
    "y_val = genfromtxt('./landcover_data/y_test_sat6.csv', delimiter=',', max_rows=10e4)\n",
    "print(x_val.shape)\n",
    "print(y_val.shape)"
   ]
  },
  {
   "cell_type": "code",
   "execution_count": 84,
   "id": "0f45beb6",
   "metadata": {},
   "outputs": [
    {
     "name": "stdout",
     "output_type": "stream",
     "text": [
      "(81000, 28, 28, 4)\n",
      "(81000, 6)\n"
     ]
    }
   ],
   "source": [
    "x_val = x_val.reshape(x_val.shape[0],28,28,4).astype(np.float32)\n",
    "y_val = y_val.astype(np.float32)\n",
    "print(x_val.shape)\n",
    "print(y_val.shape)"
   ]
  },
  {
   "cell_type": "code",
   "execution_count": null,
   "id": "a7fdd2bd",
   "metadata": {},
   "outputs": [],
   "source": [
    "# building,1,0,0,0,0,0\n",
    "# barren_land,0,1,0,0,0,0\n",
    "# trees,0,0,1,0,0,0\n",
    "# grassland,0,0,0,1,0,0\n",
    "# road,0,0,0,0,1,0\n",
    "# water,0,0,0,0,0,1"
   ]
  },
  {
   "cell_type": "code",
   "execution_count": 85,
   "id": "398b0bf3",
   "metadata": {},
   "outputs": [],
   "source": [
    "with open('./landcover_data/x_train.npy', 'wb') as f:\n",
    "    np.save(f, x_train)\n"
   ]
  },
  {
   "cell_type": "code",
   "execution_count": 86,
   "id": "cacf1106",
   "metadata": {},
   "outputs": [],
   "source": [
    "with open('./landcover_data/y_train.npy', 'wb') as f:\n",
    "    np.save(f, y_train)"
   ]
  },
  {
   "cell_type": "code",
   "execution_count": 87,
   "id": "55d5d5db",
   "metadata": {},
   "outputs": [],
   "source": [
    "with open('./landcover_data/x_val.npy', 'wb') as f:\n",
    "    np.save(f, x_val)"
   ]
  },
  {
   "cell_type": "code",
   "execution_count": 88,
   "id": "b5b485b1",
   "metadata": {},
   "outputs": [],
   "source": [
    "with open('./landcover_data/y_val.npy', 'wb') as f:\n",
    "    np.save(f, y_val)"
   ]
  },
  {
   "cell_type": "code",
   "execution_count": null,
   "id": "8d3ae10c",
   "metadata": {},
   "outputs": [],
   "source": []
  },
  {
   "cell_type": "code",
   "execution_count": 91,
   "id": "193c9a2a",
   "metadata": {},
   "outputs": [
    {
     "data": {
      "text/plain": [
       "array([ 4676., 22516., 17588., 15681.,  2507., 37032.], dtype=float32)"
      ]
     },
     "execution_count": 91,
     "metadata": {},
     "output_type": "execute_result"
    }
   ],
   "source": [
    "# print label count\n",
    "\n",
    "count = np.sum(y_train, axis=0)\n",
    "count"
   ]
  },
  {
   "cell_type": "code",
   "execution_count": 92,
   "id": "ccdfc287",
   "metadata": {},
   "outputs": [],
   "source": [
    "import tensorflow as tf\n",
    "from tensorflow import keras as keras\n",
    "from tensorflow.keras.optimizers import Adam\n",
    "\n",
    "from keras import regularizers\n",
    "from keras.callbacks import ModelCheckpoint, History, ReduceLROnPlateau, TensorBoard, EarlyStopping\n",
    "from keras.layers import BatchNormalization, Input, Reshape, Dense, Conv2D, Dropout\n",
    "from keras.models import Model, load_model\n",
    "from tensorflow.keras.metrics import CategoricalAccuracy, CategoricalCrossentropy, SensitivityAtSpecificity\n",
    "\n",
    "from timeit import default_timer as timer"
   ]
  },
  {
   "cell_type": "code",
   "execution_count": 93,
   "id": "b5825d16",
   "metadata": {},
   "outputs": [],
   "source": [
    "LR = 5e-4\n",
    "MODEL_CHECKPOINT = './snapshots/'\n",
    "LOG_DIR = './logs/'\n"
   ]
  },
  {
   "cell_type": "code",
   "execution_count": 94,
   "id": "6a6f6255",
   "metadata": {},
   "outputs": [],
   "source": [
    "def build_cnn():\n",
    "    l = Input(shape=(28, 28, 4,))\n",
    "    inputs = l\n",
    "    \n",
    "    l = Conv2D(\n",
    "        filters=32,kernel_size=[5,5],\n",
    "        padding='same',activation='relu', name='conv1')(l)\n",
    "    l = BatchNormalization()(l)\n",
    "    l = Dropout(0.5)(l)\n",
    "\n",
    "    \n",
    "    l = Conv2D(\n",
    "        filters=64,kernel_size=[5,5],\n",
    "        padding='same',activation='relu', name='conv2')(l)\n",
    "    l = BatchNormalization()(l)\n",
    "    \n",
    "    \n",
    "    l = Conv2D(\n",
    "        filters=32,kernel_size=[5,5],\n",
    "        padding='same',activation='relu', name='conv3')(l)\n",
    "    l = BatchNormalization()(l)\n",
    "    \n",
    "    \n",
    "    l = Conv2D(\n",
    "        filters=8,kernel_size=[5,5],\n",
    "        padding='same',activation='relu', name='conv4')(l)\n",
    "    l = BatchNormalization()(l)\n",
    "    l = Dropout(0.5)(l)\n",
    "    \n",
    "    l = Reshape((8*28*28,), name='flatten')(l)\n",
    "    l = Dense(32, activation=\"relu\", name='fc')(l)\n",
    "    l = Dense(6, activation=\"softmax\", name='main_output')(l)\n",
    "\n",
    "\n",
    "    m_cnn = Model(inputs=inputs, outputs=l)\n",
    "    print(m_cnn.summary())\n",
    "    return m_cnn\n"
   ]
  },
  {
   "cell_type": "code",
   "execution_count": 95,
   "id": "82826d76",
   "metadata": {},
   "outputs": [],
   "source": [
    "def model_train(X_train, y_train, X_val, y_val, model, key):\n",
    "    print(model.summary())\n",
    "\n",
    "    file_path = MODEL_CHECKPOINT + key + datetime.datetime.now().strftime(\"%Y%m%d-%H%M%S\")\n",
    "    history = History()\n",
    "    log_dir = LOG_DIR + key + '/' + datetime.datetime.now().strftime(\"%Y%m%d-%H%M%S\")\n",
    "    tensor_board = TensorBoard(log_dir, histogram_freq=5,\n",
    "                                       write_grads=False, write_graph=False)\n",
    "    reduce_lr = ReduceLROnPlateau(monitor='val_loss', factor=0.5, patience=1, min_lr=1e-5)\n",
    "    checkpoint = ModelCheckpoint(file_path, monitor='val_loss', verbose=1, save_best_only=True, mode='min', period=1)\n",
    "    early_stop = EarlyStopping(\n",
    "        monitor=\"val_loss\", min_delta=0, patience=3, verbose=0, mode=\"auto\", baseline=None, restore_best_weights=True\n",
    "    )\n",
    "    callbacks_list = [history, tensor_board, reduce_lr, early_stop]\n",
    "\n",
    "    adam_wn = Adam(learning_rate=LR)\n",
    "    model.compile(\n",
    "        loss=\"categorical_crossentropy\", optimizer=adam_wn,\n",
    "        metrics=[CategoricalAccuracy(), SensitivityAtSpecificity(specificity=0.99, class_id=4)]\n",
    "    )\n",
    "    model.fit(x=X_train, y=y_train, validation_data=(X_val, y_val), batch_size=128,\n",
    "              epochs=40, verbose=1, shuffle=False,\n",
    "              callbacks=callbacks_list)\n",
    "    model.save(file_path)\n",
    "\n",
    "    return (model, history)"
   ]
  },
  {
   "cell_type": "code",
   "execution_count": 96,
   "id": "cccea6d2",
   "metadata": {},
   "outputs": [
    {
     "name": "stdout",
     "output_type": "stream",
     "text": [
      "Model: \"model_17\"\n",
      "_________________________________________________________________\n",
      "Layer (type)                 Output Shape              Param #   \n",
      "=================================================================\n",
      "input_21 (InputLayer)        [(None, 28, 28, 4)]       0         \n",
      "_________________________________________________________________\n",
      "conv1 (Conv2D)               (None, 28, 28, 32)        3232      \n",
      "_________________________________________________________________\n",
      "batch_normalization_72 (Batc (None, 28, 28, 32)        128       \n",
      "_________________________________________________________________\n",
      "dropout_36 (Dropout)         (None, 28, 28, 32)        0         \n",
      "_________________________________________________________________\n",
      "conv2 (Conv2D)               (None, 28, 28, 64)        51264     \n",
      "_________________________________________________________________\n",
      "batch_normalization_73 (Batc (None, 28, 28, 64)        256       \n",
      "_________________________________________________________________\n",
      "conv3 (Conv2D)               (None, 28, 28, 32)        51232     \n",
      "_________________________________________________________________\n",
      "batch_normalization_74 (Batc (None, 28, 28, 32)        128       \n",
      "_________________________________________________________________\n",
      "conv4 (Conv2D)               (None, 28, 28, 8)         6408      \n",
      "_________________________________________________________________\n",
      "batch_normalization_75 (Batc (None, 28, 28, 8)         32        \n",
      "_________________________________________________________________\n",
      "dropout_37 (Dropout)         (None, 28, 28, 8)         0         \n",
      "_________________________________________________________________\n",
      "flatten (Reshape)            (None, 6272)              0         \n",
      "_________________________________________________________________\n",
      "fc (Dense)                   (None, 32)                200736    \n",
      "_________________________________________________________________\n",
      "main_output (Dense)          (None, 6)                 198       \n",
      "=================================================================\n",
      "Total params: 313,614\n",
      "Trainable params: 313,342\n",
      "Non-trainable params: 272\n",
      "_________________________________________________________________\n",
      "None\n"
     ]
    }
   ],
   "source": [
    "my_model = build_cnn()\n"
   ]
  },
  {
   "cell_type": "code",
   "execution_count": 97,
   "id": "5b0cd318",
   "metadata": {},
   "outputs": [
    {
     "name": "stdout",
     "output_type": "stream",
     "text": [
      "Model: \"model_17\"\n",
      "_________________________________________________________________\n",
      "Layer (type)                 Output Shape              Param #   \n",
      "=================================================================\n",
      "input_21 (InputLayer)        [(None, 28, 28, 4)]       0         \n",
      "_________________________________________________________________\n",
      "conv1 (Conv2D)               (None, 28, 28, 32)        3232      \n",
      "_________________________________________________________________\n",
      "batch_normalization_72 (Batc (None, 28, 28, 32)        128       \n",
      "_________________________________________________________________\n",
      "dropout_36 (Dropout)         (None, 28, 28, 32)        0         \n",
      "_________________________________________________________________\n",
      "conv2 (Conv2D)               (None, 28, 28, 64)        51264     \n",
      "_________________________________________________________________\n",
      "batch_normalization_73 (Batc (None, 28, 28, 64)        256       \n",
      "_________________________________________________________________\n",
      "conv3 (Conv2D)               (None, 28, 28, 32)        51232     \n",
      "_________________________________________________________________\n",
      "batch_normalization_74 (Batc (None, 28, 28, 32)        128       \n",
      "_________________________________________________________________\n",
      "conv4 (Conv2D)               (None, 28, 28, 8)         6408      \n",
      "_________________________________________________________________\n",
      "batch_normalization_75 (Batc (None, 28, 28, 8)         32        \n",
      "_________________________________________________________________\n",
      "dropout_37 (Dropout)         (None, 28, 28, 8)         0         \n",
      "_________________________________________________________________\n",
      "flatten (Reshape)            (None, 6272)              0         \n",
      "_________________________________________________________________\n",
      "fc (Dense)                   (None, 32)                200736    \n",
      "_________________________________________________________________\n",
      "main_output (Dense)          (None, 6)                 198       \n",
      "=================================================================\n",
      "Total params: 313,614\n",
      "Trainable params: 313,342\n",
      "Non-trainable params: 272\n",
      "_________________________________________________________________\n",
      "None\n",
      "WARNING:tensorflow:`period` argument is deprecated. Please use `save_freq` to specify the frequency in number of batches seen.\n",
      "Epoch 1/40\n"
     ]
    },
    {
     "name": "stderr",
     "output_type": "stream",
     "text": [
      "2021-09-17 13:26:18.931411: I tensorflow/core/profiler/lib/profiler_session.cc:131] Profiler session initializing.\n",
      "2021-09-17 13:26:18.931428: I tensorflow/core/profiler/lib/profiler_session.cc:146] Profiler session started.\n",
      "2021-09-17 13:26:18.933147: I tensorflow/core/profiler/lib/profiler_session.cc:164] Profiler session tear down.\n"
     ]
    },
    {
     "name": "stdout",
     "output_type": "stream",
     "text": [
      "\r",
      "  1/782 [..............................] - ETA: 21:18 - loss: 2.9565 - categorical_accuracy: 0.2891 - sensitivity_at_specificity_5: 0.0000e+00"
     ]
    },
    {
     "name": "stderr",
     "output_type": "stream",
     "text": [
      "2021-09-17 13:26:20.688321: I tensorflow/core/profiler/lib/profiler_session.cc:131] Profiler session initializing.\n",
      "2021-09-17 13:26:20.688336: I tensorflow/core/profiler/lib/profiler_session.cc:146] Profiler session started.\n"
     ]
    },
    {
     "name": "stdout",
     "output_type": "stream",
     "text": [
      "\b\b\b\b\b\b\b\b\b\b\b\b\b\b\b\b\b\b\b\b\b\b\b\b\b\b\b\b\b\b\b\b\b\b\b\b\b\b\b\b\b\b\b\b\b\b\b\b\b\b\b\b\b\b\b\b\b\b\b\b\b\b\b\b\b\b\b\b\b\b\b\b\b\b\b\b\b\b\b\b\b\b\b\b\b\b\b\b\b\b\b\b\b\b\b\b\b\b\b\b\b\b\b\b\b\b\b\b\b\b\b\b\b\b\b\b\b\b\b\b\b\b\b\b\b\b\b\b\b\b\b\b\b\b\b\b\b\b\b\b\b\b\r",
      "  2/782 [..............................] - ETA: 8:43 - loss: 2.2149 - categorical_accuracy: 0.4180 - sensitivity_at_specificity_5: 0.0000e+00 "
     ]
    },
    {
     "name": "stderr",
     "output_type": "stream",
     "text": [
      "2021-09-17 13:26:21.449568: I tensorflow/core/profiler/lib/profiler_session.cc:66] Profiler session collecting data.\n",
      "2021-09-17 13:26:21.451103: I tensorflow/core/profiler/lib/profiler_session.cc:164] Profiler session tear down.\n",
      "2021-09-17 13:26:21.454123: I tensorflow/core/profiler/rpc/client/save_profile.cc:136] Creating directory: ./logs/toy_model2/20210917-132618/train/plugins/profile/2021_09_17_13_26_21\n",
      "\n",
      "2021-09-17 13:26:21.455291: I tensorflow/core/profiler/rpc/client/save_profile.cc:142] Dumped gzipped tool data for trace.json.gz to ./logs/toy_model2/20210917-132618/train/plugins/profile/2021_09_17_13_26_21/lucindazhaosmbp.lan.trace.json.gz\n",
      "2021-09-17 13:26:21.459863: I tensorflow/core/profiler/rpc/client/save_profile.cc:136] Creating directory: ./logs/toy_model2/20210917-132618/train/plugins/profile/2021_09_17_13_26_21\n",
      "\n",
      "2021-09-17 13:26:21.460045: I tensorflow/core/profiler/rpc/client/save_profile.cc:142] Dumped gzipped tool data for memory_profile.json.gz to ./logs/toy_model2/20210917-132618/train/plugins/profile/2021_09_17_13_26_21/lucindazhaosmbp.lan.memory_profile.json.gz\n",
      "2021-09-17 13:26:21.461028: I tensorflow/core/profiler/rpc/client/capture_profile.cc:251] Creating directory: ./logs/toy_model2/20210917-132618/train/plugins/profile/2021_09_17_13_26_21\n",
      "Dumped tool data for xplane.pb to ./logs/toy_model2/20210917-132618/train/plugins/profile/2021_09_17_13_26_21/lucindazhaosmbp.lan.xplane.pb\n",
      "Dumped tool data for overview_page.pb to ./logs/toy_model2/20210917-132618/train/plugins/profile/2021_09_17_13_26_21/lucindazhaosmbp.lan.overview_page.pb\n",
      "Dumped tool data for input_pipeline.pb to ./logs/toy_model2/20210917-132618/train/plugins/profile/2021_09_17_13_26_21/lucindazhaosmbp.lan.input_pipeline.pb\n",
      "Dumped tool data for tensorflow_stats.pb to ./logs/toy_model2/20210917-132618/train/plugins/profile/2021_09_17_13_26_21/lucindazhaosmbp.lan.tensorflow_stats.pb\n",
      "Dumped tool data for kernel_stats.pb to ./logs/toy_model2/20210917-132618/train/plugins/profile/2021_09_17_13_26_21/lucindazhaosmbp.lan.kernel_stats.pb\n",
      "\n"
     ]
    },
    {
     "name": "stdout",
     "output_type": "stream",
     "text": [
      "782/782 [==============================] - 464s 592ms/step - loss: 0.1319 - categorical_accuracy: 0.9537 - sensitivity_at_specificity_5: 0.9015 - val_loss: 0.1601 - val_categorical_accuracy: 0.9378 - val_sensitivity_at_specificity_5: 0.9551\n",
      "Epoch 2/40\n",
      "782/782 [==============================] - 447s 571ms/step - loss: 0.0752 - categorical_accuracy: 0.9735 - sensitivity_at_specificity_5: 0.9769 - val_loss: 0.4347 - val_categorical_accuracy: 0.8625 - val_sensitivity_at_specificity_5: 0.9671\n",
      "Epoch 3/40\n",
      "782/782 [==============================] - 425s 544ms/step - loss: 0.0504 - categorical_accuracy: 0.9820 - sensitivity_at_specificity_5: 0.9928 - val_loss: 0.0705 - val_categorical_accuracy: 0.9760 - val_sensitivity_at_specificity_5: 0.9459\n",
      "Epoch 4/40\n",
      "782/782 [==============================] - 425s 544ms/step - loss: 0.0432 - categorical_accuracy: 0.9847 - sensitivity_at_specificity_5: 0.9948 - val_loss: 0.3575 - val_categorical_accuracy: 0.8889 - val_sensitivity_at_specificity_5: 0.9464\n",
      "Epoch 5/40\n",
      "782/782 [==============================] - 454s 581ms/step - loss: 0.0349 - categorical_accuracy: 0.9874 - sensitivity_at_specificity_5: 0.9976 - val_loss: 0.0441 - val_categorical_accuracy: 0.9854 - val_sensitivity_at_specificity_5: 0.9961\n",
      "Epoch 6/40\n",
      "782/782 [==============================] - 467s 597ms/step - loss: 0.0316 - categorical_accuracy: 0.9888 - sensitivity_at_specificity_5: 0.9992 - val_loss: 0.0512 - val_categorical_accuracy: 0.9835 - val_sensitivity_at_specificity_5: 0.9918\n",
      "Epoch 7/40\n",
      "782/782 [==============================] - 474s 606ms/step - loss: 0.0272 - categorical_accuracy: 0.9904 - sensitivity_at_specificity_5: 1.0000 - val_loss: 0.0340 - val_categorical_accuracy: 0.9884 - val_sensitivity_at_specificity_5: 0.9937\n",
      "Epoch 8/40\n",
      "782/782 [==============================] - 463s 592ms/step - loss: 0.0255 - categorical_accuracy: 0.9911 - sensitivity_at_specificity_5: 0.9992 - val_loss: 0.0366 - val_categorical_accuracy: 0.9877 - val_sensitivity_at_specificity_5: 0.9986\n",
      "Epoch 9/40\n",
      "782/782 [==============================] - 499s 639ms/step - loss: 0.0234 - categorical_accuracy: 0.9920 - sensitivity_at_specificity_5: 1.0000 - val_loss: 0.0327 - val_categorical_accuracy: 0.9895 - val_sensitivity_at_specificity_5: 0.9981\n",
      "Epoch 10/40\n",
      "782/782 [==============================] - 484s 619ms/step - loss: 0.0224 - categorical_accuracy: 0.9923 - sensitivity_at_specificity_5: 0.9996 - val_loss: 0.0291 - val_categorical_accuracy: 0.9904 - val_sensitivity_at_specificity_5: 0.9995\n",
      "Epoch 11/40\n",
      "782/782 [==============================] - 504s 645ms/step - loss: 0.0223 - categorical_accuracy: 0.9926 - sensitivity_at_specificity_5: 1.0000 - val_loss: 0.0309 - val_categorical_accuracy: 0.9902 - val_sensitivity_at_specificity_5: 0.9981\n",
      "Epoch 12/40\n",
      "782/782 [==============================] - 474s 607ms/step - loss: 0.0205 - categorical_accuracy: 0.9931 - sensitivity_at_specificity_5: 0.9996 - val_loss: 0.0291 - val_categorical_accuracy: 0.9903 - val_sensitivity_at_specificity_5: 0.9957\n",
      "Epoch 13/40\n",
      "782/782 [==============================] - 489s 625ms/step - loss: 0.0198 - categorical_accuracy: 0.9931 - sensitivity_at_specificity_5: 1.0000 - val_loss: 0.0270 - val_categorical_accuracy: 0.9911 - val_sensitivity_at_specificity_5: 0.9981\n",
      "Epoch 14/40\n",
      "782/782 [==============================] - 468s 598ms/step - loss: 0.0199 - categorical_accuracy: 0.9931 - sensitivity_at_specificity_5: 0.9996 - val_loss: 0.0266 - val_categorical_accuracy: 0.9913 - val_sensitivity_at_specificity_5: 0.9966\n",
      "Epoch 15/40\n",
      "782/782 [==============================] - 470s 601ms/step - loss: 0.0192 - categorical_accuracy: 0.9934 - sensitivity_at_specificity_5: 0.9996 - val_loss: 0.0262 - val_categorical_accuracy: 0.9919 - val_sensitivity_at_specificity_5: 0.9986\n",
      "Epoch 16/40\n",
      "782/782 [==============================] - 478s 612ms/step - loss: 0.0195 - categorical_accuracy: 0.9936 - sensitivity_at_specificity_5: 0.9996 - val_loss: 0.0254 - val_categorical_accuracy: 0.9919 - val_sensitivity_at_specificity_5: 0.9981\n",
      "Epoch 17/40\n",
      "782/782 [==============================] - 482s 617ms/step - loss: 0.0190 - categorical_accuracy: 0.9936 - sensitivity_at_specificity_5: 1.0000 - val_loss: 0.0256 - val_categorical_accuracy: 0.9918 - val_sensitivity_at_specificity_5: 0.9976\n",
      "Epoch 18/40\n",
      "782/782 [==============================] - 459s 587ms/step - loss: 0.0188 - categorical_accuracy: 0.9936 - sensitivity_at_specificity_5: 1.0000 - val_loss: 0.0258 - val_categorical_accuracy: 0.9919 - val_sensitivity_at_specificity_5: 0.9961\n",
      "Epoch 19/40\n",
      "782/782 [==============================] - 480s 613ms/step - loss: 0.0186 - categorical_accuracy: 0.9940 - sensitivity_at_specificity_5: 0.9996 - val_loss: 0.0260 - val_categorical_accuracy: 0.9919 - val_sensitivity_at_specificity_5: 0.9986\n",
      "Epoch 20/40\n",
      "122/782 [===>..........................] - ETA: 5:50 - loss: 0.0169 - categorical_accuracy: 0.9947 - sensitivity_at_specificity_5: 1.0000"
     ]
    },
    {
     "ename": "KeyboardInterrupt",
     "evalue": "",
     "output_type": "error",
     "traceback": [
      "\u001b[0;31m---------------------------------------------------------------------------\u001b[0m",
      "\u001b[0;31mKeyboardInterrupt\u001b[0m                         Traceback (most recent call last)",
      "\u001b[0;32m/var/folders/4g/lm9wm7sj1kbbjjbyhkqt6dnr0000gq/T/ipykernel_23543/825270559.py\u001b[0m in \u001b[0;36m<module>\u001b[0;34m\u001b[0m\n\u001b[0;32m----> 1\u001b[0;31m \u001b[0mmodel_train\u001b[0m\u001b[0;34m(\u001b[0m\u001b[0mx_train\u001b[0m\u001b[0;34m,\u001b[0m \u001b[0my_train\u001b[0m\u001b[0;34m,\u001b[0m \u001b[0mx_val\u001b[0m\u001b[0;34m,\u001b[0m \u001b[0my_val\u001b[0m\u001b[0;34m,\u001b[0m \u001b[0mmy_model\u001b[0m\u001b[0;34m,\u001b[0m \u001b[0mkey\u001b[0m\u001b[0;34m=\u001b[0m\u001b[0;34m'toy_model2'\u001b[0m\u001b[0;34m)\u001b[0m\u001b[0;34m\u001b[0m\u001b[0;34m\u001b[0m\u001b[0m\n\u001b[0m",
      "\u001b[0;32m/var/folders/4g/lm9wm7sj1kbbjjbyhkqt6dnr0000gq/T/ipykernel_23543/1892640303.py\u001b[0m in \u001b[0;36mmodel_train\u001b[0;34m(X_train, y_train, X_val, y_val, model, key)\u001b[0m\n\u001b[1;32m     21\u001b[0m     model.fit(x=X_train, y=y_train, validation_data=(X_val, y_val), batch_size=128,\n\u001b[1;32m     22\u001b[0m               \u001b[0mepochs\u001b[0m\u001b[0;34m=\u001b[0m\u001b[0;36m40\u001b[0m\u001b[0;34m,\u001b[0m \u001b[0mverbose\u001b[0m\u001b[0;34m=\u001b[0m\u001b[0;36m1\u001b[0m\u001b[0;34m,\u001b[0m \u001b[0mshuffle\u001b[0m\u001b[0;34m=\u001b[0m\u001b[0;32mFalse\u001b[0m\u001b[0;34m,\u001b[0m\u001b[0;34m\u001b[0m\u001b[0;34m\u001b[0m\u001b[0m\n\u001b[0;32m---> 23\u001b[0;31m               callbacks=callbacks_list)\n\u001b[0m\u001b[1;32m     24\u001b[0m     \u001b[0mmodel\u001b[0m\u001b[0;34m.\u001b[0m\u001b[0msave\u001b[0m\u001b[0;34m(\u001b[0m\u001b[0mfile_path\u001b[0m\u001b[0;34m)\u001b[0m\u001b[0;34m\u001b[0m\u001b[0;34m\u001b[0m\u001b[0m\n\u001b[1;32m     25\u001b[0m \u001b[0;34m\u001b[0m\u001b[0m\n",
      "\u001b[0;32m~/opt/miniconda3/envs/ml/lib/python3.7/site-packages/keras/engine/training.py\u001b[0m in \u001b[0;36mfit\u001b[0;34m(self, x, y, batch_size, epochs, verbose, callbacks, validation_split, validation_data, shuffle, class_weight, sample_weight, initial_epoch, steps_per_epoch, validation_steps, validation_batch_size, validation_freq, max_queue_size, workers, use_multiprocessing)\u001b[0m\n\u001b[1;32m   1182\u001b[0m                 _r=1):\n\u001b[1;32m   1183\u001b[0m               \u001b[0mcallbacks\u001b[0m\u001b[0;34m.\u001b[0m\u001b[0mon_train_batch_begin\u001b[0m\u001b[0;34m(\u001b[0m\u001b[0mstep\u001b[0m\u001b[0;34m)\u001b[0m\u001b[0;34m\u001b[0m\u001b[0;34m\u001b[0m\u001b[0m\n\u001b[0;32m-> 1184\u001b[0;31m               \u001b[0mtmp_logs\u001b[0m \u001b[0;34m=\u001b[0m \u001b[0mself\u001b[0m\u001b[0;34m.\u001b[0m\u001b[0mtrain_function\u001b[0m\u001b[0;34m(\u001b[0m\u001b[0miterator\u001b[0m\u001b[0;34m)\u001b[0m\u001b[0;34m\u001b[0m\u001b[0;34m\u001b[0m\u001b[0m\n\u001b[0m\u001b[1;32m   1185\u001b[0m               \u001b[0;32mif\u001b[0m \u001b[0mdata_handler\u001b[0m\u001b[0;34m.\u001b[0m\u001b[0mshould_sync\u001b[0m\u001b[0;34m:\u001b[0m\u001b[0;34m\u001b[0m\u001b[0;34m\u001b[0m\u001b[0m\n\u001b[1;32m   1186\u001b[0m                 \u001b[0mcontext\u001b[0m\u001b[0;34m.\u001b[0m\u001b[0masync_wait\u001b[0m\u001b[0;34m(\u001b[0m\u001b[0;34m)\u001b[0m\u001b[0;34m\u001b[0m\u001b[0;34m\u001b[0m\u001b[0m\n",
      "\u001b[0;32m~/opt/miniconda3/envs/ml/lib/python3.7/site-packages/tensorflow/python/eager/def_function.py\u001b[0m in \u001b[0;36m__call__\u001b[0;34m(self, *args, **kwds)\u001b[0m\n\u001b[1;32m    883\u001b[0m \u001b[0;34m\u001b[0m\u001b[0m\n\u001b[1;32m    884\u001b[0m       \u001b[0;32mwith\u001b[0m \u001b[0mOptionalXlaContext\u001b[0m\u001b[0;34m(\u001b[0m\u001b[0mself\u001b[0m\u001b[0;34m.\u001b[0m\u001b[0m_jit_compile\u001b[0m\u001b[0;34m)\u001b[0m\u001b[0;34m:\u001b[0m\u001b[0;34m\u001b[0m\u001b[0;34m\u001b[0m\u001b[0m\n\u001b[0;32m--> 885\u001b[0;31m         \u001b[0mresult\u001b[0m \u001b[0;34m=\u001b[0m \u001b[0mself\u001b[0m\u001b[0;34m.\u001b[0m\u001b[0m_call\u001b[0m\u001b[0;34m(\u001b[0m\u001b[0;34m*\u001b[0m\u001b[0margs\u001b[0m\u001b[0;34m,\u001b[0m \u001b[0;34m**\u001b[0m\u001b[0mkwds\u001b[0m\u001b[0;34m)\u001b[0m\u001b[0;34m\u001b[0m\u001b[0;34m\u001b[0m\u001b[0m\n\u001b[0m\u001b[1;32m    886\u001b[0m \u001b[0;34m\u001b[0m\u001b[0m\n\u001b[1;32m    887\u001b[0m       \u001b[0mnew_tracing_count\u001b[0m \u001b[0;34m=\u001b[0m \u001b[0mself\u001b[0m\u001b[0;34m.\u001b[0m\u001b[0mexperimental_get_tracing_count\u001b[0m\u001b[0;34m(\u001b[0m\u001b[0;34m)\u001b[0m\u001b[0;34m\u001b[0m\u001b[0;34m\u001b[0m\u001b[0m\n",
      "\u001b[0;32m~/opt/miniconda3/envs/ml/lib/python3.7/site-packages/tensorflow/python/eager/def_function.py\u001b[0m in \u001b[0;36m_call\u001b[0;34m(self, *args, **kwds)\u001b[0m\n\u001b[1;32m    915\u001b[0m       \u001b[0;31m# In this case we have created variables on the first call, so we run the\u001b[0m\u001b[0;34m\u001b[0m\u001b[0;34m\u001b[0m\u001b[0;34m\u001b[0m\u001b[0m\n\u001b[1;32m    916\u001b[0m       \u001b[0;31m# defunned version which is guaranteed to never create variables.\u001b[0m\u001b[0;34m\u001b[0m\u001b[0;34m\u001b[0m\u001b[0;34m\u001b[0m\u001b[0m\n\u001b[0;32m--> 917\u001b[0;31m       \u001b[0;32mreturn\u001b[0m \u001b[0mself\u001b[0m\u001b[0;34m.\u001b[0m\u001b[0m_stateless_fn\u001b[0m\u001b[0;34m(\u001b[0m\u001b[0;34m*\u001b[0m\u001b[0margs\u001b[0m\u001b[0;34m,\u001b[0m \u001b[0;34m**\u001b[0m\u001b[0mkwds\u001b[0m\u001b[0;34m)\u001b[0m  \u001b[0;31m# pylint: disable=not-callable\u001b[0m\u001b[0;34m\u001b[0m\u001b[0;34m\u001b[0m\u001b[0m\n\u001b[0m\u001b[1;32m    918\u001b[0m     \u001b[0;32melif\u001b[0m \u001b[0mself\u001b[0m\u001b[0;34m.\u001b[0m\u001b[0m_stateful_fn\u001b[0m \u001b[0;32mis\u001b[0m \u001b[0;32mnot\u001b[0m \u001b[0;32mNone\u001b[0m\u001b[0;34m:\u001b[0m\u001b[0;34m\u001b[0m\u001b[0;34m\u001b[0m\u001b[0m\n\u001b[1;32m    919\u001b[0m       \u001b[0;31m# Release the lock early so that multiple threads can perform the call\u001b[0m\u001b[0;34m\u001b[0m\u001b[0;34m\u001b[0m\u001b[0;34m\u001b[0m\u001b[0m\n",
      "\u001b[0;32m~/opt/miniconda3/envs/ml/lib/python3.7/site-packages/tensorflow/python/eager/function.py\u001b[0m in \u001b[0;36m__call__\u001b[0;34m(self, *args, **kwargs)\u001b[0m\n\u001b[1;32m   3038\u001b[0m        filtered_flat_args) = self._maybe_define_function(args, kwargs)\n\u001b[1;32m   3039\u001b[0m     return graph_function._call_flat(\n\u001b[0;32m-> 3040\u001b[0;31m         filtered_flat_args, captured_inputs=graph_function.captured_inputs)  # pylint: disable=protected-access\n\u001b[0m\u001b[1;32m   3041\u001b[0m \u001b[0;34m\u001b[0m\u001b[0m\n\u001b[1;32m   3042\u001b[0m   \u001b[0;34m@\u001b[0m\u001b[0mproperty\u001b[0m\u001b[0;34m\u001b[0m\u001b[0;34m\u001b[0m\u001b[0m\n",
      "\u001b[0;32m~/opt/miniconda3/envs/ml/lib/python3.7/site-packages/tensorflow/python/eager/function.py\u001b[0m in \u001b[0;36m_call_flat\u001b[0;34m(self, args, captured_inputs, cancellation_manager)\u001b[0m\n\u001b[1;32m   1962\u001b[0m       \u001b[0;31m# No tape is watching; skip to running the function.\u001b[0m\u001b[0;34m\u001b[0m\u001b[0;34m\u001b[0m\u001b[0;34m\u001b[0m\u001b[0m\n\u001b[1;32m   1963\u001b[0m       return self._build_call_outputs(self._inference_function.call(\n\u001b[0;32m-> 1964\u001b[0;31m           ctx, args, cancellation_manager=cancellation_manager))\n\u001b[0m\u001b[1;32m   1965\u001b[0m     forward_backward = self._select_forward_and_backward_functions(\n\u001b[1;32m   1966\u001b[0m         \u001b[0margs\u001b[0m\u001b[0;34m,\u001b[0m\u001b[0;34m\u001b[0m\u001b[0;34m\u001b[0m\u001b[0m\n",
      "\u001b[0;32m~/opt/miniconda3/envs/ml/lib/python3.7/site-packages/tensorflow/python/eager/function.py\u001b[0m in \u001b[0;36mcall\u001b[0;34m(self, ctx, args, cancellation_manager)\u001b[0m\n\u001b[1;32m    594\u001b[0m               \u001b[0minputs\u001b[0m\u001b[0;34m=\u001b[0m\u001b[0margs\u001b[0m\u001b[0;34m,\u001b[0m\u001b[0;34m\u001b[0m\u001b[0;34m\u001b[0m\u001b[0m\n\u001b[1;32m    595\u001b[0m               \u001b[0mattrs\u001b[0m\u001b[0;34m=\u001b[0m\u001b[0mattrs\u001b[0m\u001b[0;34m,\u001b[0m\u001b[0;34m\u001b[0m\u001b[0;34m\u001b[0m\u001b[0m\n\u001b[0;32m--> 596\u001b[0;31m               ctx=ctx)\n\u001b[0m\u001b[1;32m    597\u001b[0m         \u001b[0;32melse\u001b[0m\u001b[0;34m:\u001b[0m\u001b[0;34m\u001b[0m\u001b[0;34m\u001b[0m\u001b[0m\n\u001b[1;32m    598\u001b[0m           outputs = execute.execute_with_cancellation(\n",
      "\u001b[0;32m~/opt/miniconda3/envs/ml/lib/python3.7/site-packages/tensorflow/python/eager/execute.py\u001b[0m in \u001b[0;36mquick_execute\u001b[0;34m(op_name, num_outputs, inputs, attrs, ctx, name)\u001b[0m\n\u001b[1;32m     58\u001b[0m     \u001b[0mctx\u001b[0m\u001b[0;34m.\u001b[0m\u001b[0mensure_initialized\u001b[0m\u001b[0;34m(\u001b[0m\u001b[0;34m)\u001b[0m\u001b[0;34m\u001b[0m\u001b[0;34m\u001b[0m\u001b[0m\n\u001b[1;32m     59\u001b[0m     tensors = pywrap_tfe.TFE_Py_Execute(ctx._handle, device_name, op_name,\n\u001b[0;32m---> 60\u001b[0;31m                                         inputs, attrs, num_outputs)\n\u001b[0m\u001b[1;32m     61\u001b[0m   \u001b[0;32mexcept\u001b[0m \u001b[0mcore\u001b[0m\u001b[0;34m.\u001b[0m\u001b[0m_NotOkStatusException\u001b[0m \u001b[0;32mas\u001b[0m \u001b[0me\u001b[0m\u001b[0;34m:\u001b[0m\u001b[0;34m\u001b[0m\u001b[0;34m\u001b[0m\u001b[0m\n\u001b[1;32m     62\u001b[0m     \u001b[0;32mif\u001b[0m \u001b[0mname\u001b[0m \u001b[0;32mis\u001b[0m \u001b[0;32mnot\u001b[0m \u001b[0;32mNone\u001b[0m\u001b[0;34m:\u001b[0m\u001b[0;34m\u001b[0m\u001b[0;34m\u001b[0m\u001b[0m\n",
      "\u001b[0;31mKeyboardInterrupt\u001b[0m: "
     ]
    }
   ],
   "source": [
    "model_train(x_train, y_train, x_val, y_val, my_model, key='toy_model2')"
   ]
  },
  {
   "cell_type": "markdown",
   "id": "dd49b447",
   "metadata": {},
   "source": [
    "# Load Model and Run Predictions"
   ]
  },
  {
   "cell_type": "code",
   "execution_count": null,
   "id": "c7869301",
   "metadata": {},
   "outputs": [],
   "source": [
    "loaded_model = load_model('')\n"
   ]
  },
  {
   "cell_type": "code",
   "execution_count": null,
   "id": "631404be",
   "metadata": {},
   "outputs": [],
   "source": [
    "loaded_model.predict(x_val[0:10,:,:,:])"
   ]
  },
  {
   "cell_type": "code",
   "execution_count": null,
   "id": "5d47669b",
   "metadata": {},
   "outputs": [],
   "source": [
    "y_val[0:10, :]"
   ]
  },
  {
   "cell_type": "markdown",
   "id": "7687612e",
   "metadata": {},
   "source": [
    "# CNN + Xgboost"
   ]
  },
  {
   "cell_type": "code",
   "execution_count": null,
   "id": "bb9e78d4",
   "metadata": {},
   "outputs": [],
   "source": [
    "for layer in my_model.layers:\n",
    "    print (layer._name)"
   ]
  },
  {
   "cell_type": "code",
   "execution_count": null,
   "id": "9c05eed1",
   "metadata": {},
   "outputs": [],
   "source": [
    "new_output = my_model.get_layer('dense_2').output\n",
    "new_output.shape"
   ]
  },
  {
   "cell_type": "code",
   "execution_count": null,
   "id": "7ba1a9f9",
   "metadata": {},
   "outputs": [],
   "source": [
    "new_model = Model(inputs=my_model.input, outputs=new_output)"
   ]
  },
  {
   "cell_type": "code",
   "execution_count": null,
   "id": "2fa97ecb",
   "metadata": {},
   "outputs": [],
   "source": [
    "new_model.predict(x_val[0:10,:,:,:])"
   ]
  },
  {
   "cell_type": "code",
   "execution_count": null,
   "id": "be155cd4",
   "metadata": {},
   "outputs": [],
   "source": [
    "# Use the output of new_model as input to Xgboost\n",
    "# Equaivalently we are replacing the softmax regression in the original CNN with an Xgboost\n",
    "\n"
   ]
  },
  {
   "cell_type": "code",
   "execution_count": null,
   "id": "d20cc99d",
   "metadata": {},
   "outputs": [],
   "source": [
    "import matplotlib.pyplot as plt\n",
    "import xgboost as xgb\n",
    "from xgboost import XGBClassifier\n"
   ]
  },
  {
   "cell_type": "code",
   "execution_count": null,
   "id": "72055f46",
   "metadata": {},
   "outputs": [],
   "source": [
    "xgb_x_train = new_model.predict(x_train)\n",
    "xgb_x_val = new_model.predict(x_val)"
   ]
  },
  {
   "cell_type": "code",
   "execution_count": null,
   "id": "f85e768d",
   "metadata": {},
   "outputs": [],
   "source": [
    "print(xgb_x_train.shape)\n",
    "print(xgb_x_val.shape)"
   ]
  },
  {
   "cell_type": "code",
   "execution_count": null,
   "id": "6e5ad6f5",
   "metadata": {},
   "outputs": [],
   "source": [
    "xgb_model = XGBClassifier(\n",
    "    base_score=0.5,\n",
    "    objective='multi:softmax',\n",
    "    num_class=6,\n",
    "    \n",
    "    gamma=1,\n",
    "    max_depth=8,\n",
    "    learning_rate=0.3, \n",
    "    min_child_weight=1,\n",
    "    n_estimators=2000,\n",
    "    subsample=0.9,\n",
    "    colsample_bynode=1,\n",
    "    colsample_bytree=0.9,\n",
    "    reg_alpha=0,\n",
    "    reg_lambda=1,\n",
    "\n",
    "    random_state=0,\n",
    "    booster='gbtree',\n",
    "    tree_method='hist',\n",
    "    seed=1234,\n",
    "    missing=None,\n",
    "    verbosity=1\n",
    ")\n",
    "\n",
    "print(xgb_model.get_xgb_params())\n",
    "\n"
   ]
  },
  {
   "cell_type": "code",
   "execution_count": null,
   "id": "e749a71d",
   "metadata": {},
   "outputs": [],
   "source": [
    "trained = my_model.fit(\n",
    "    tg[0], tg[1], early_stopping_rounds=10,\n",
    "    # the last metric is used for early stopping\n",
    "    eval_metric=[\"merror\", \"mlogloss\"],\n",
    "    eval_set=[tg, vg], verbose=True)"
   ]
  },
  {
   "cell_type": "code",
   "execution_count": null,
   "id": "de616ea6",
   "metadata": {},
   "outputs": [],
   "source": [
    "import pickle\n",
    "pickle.dump(trained, open('xgb_model', \"wb\"))"
   ]
  },
  {
   "cell_type": "code",
   "execution_count": null,
   "id": "68bbb109",
   "metadata": {},
   "outputs": [],
   "source": []
  }
 ],
 "metadata": {
  "kernelspec": {
   "display_name": "Python 3 (ipykernel)",
   "language": "python",
   "name": "python3"
  },
  "language_info": {
   "codemirror_mode": {
    "name": "ipython",
    "version": 3
   },
   "file_extension": ".py",
   "mimetype": "text/x-python",
   "name": "python",
   "nbconvert_exporter": "python",
   "pygments_lexer": "ipython3",
   "version": "3.7.11"
  }
 },
 "nbformat": 4,
 "nbformat_minor": 5
}
