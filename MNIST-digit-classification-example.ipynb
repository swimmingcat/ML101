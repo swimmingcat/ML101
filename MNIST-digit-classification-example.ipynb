{
 "cells": [
  {
   "cell_type": "code",
   "execution_count": 12,
   "id": "c0a9640d",
   "metadata": {},
   "outputs": [],
   "source": [
    "import sklearn\n",
    "import numpy as np\n",
    "import pandas as pd\n",
    "import xgboost as xgb\n",
    "import tensorflow as tf\n"
   ]
  },
  {
   "cell_type": "code",
   "execution_count": 13,
   "id": "bd44532b",
   "metadata": {},
   "outputs": [],
   "source": [
    "# loading MNIST dataset\n",
    "from keras.datasets import mnist\n",
    "(X_train, y_train), (X_validation, y_validation) = mnist.load_data()"
   ]
  },
  {
   "cell_type": "code",
   "execution_count": 14,
   "id": "cef2d27f",
   "metadata": {},
   "outputs": [
    {
     "name": "stdout",
     "output_type": "stream",
     "text": [
      "(60000, 28, 28)\n",
      "(10000, 28, 28)\n"
     ]
    }
   ],
   "source": [
    "print(x_train.shape)\n",
    "print(x_validation.shape)"
   ]
  },
  {
   "cell_type": "code",
   "execution_count": 15,
   "id": "f731f066",
   "metadata": {},
   "outputs": [
    {
     "name": "stdout",
     "output_type": "stream",
     "text": [
      "0\n",
      "255\n"
     ]
    }
   ],
   "source": [
    "print(np.min(x_train))\n",
    "print(np.max(x_train))"
   ]
  },
  {
   "cell_type": "code",
   "execution_count": 16,
   "id": "42a0e92d",
   "metadata": {},
   "outputs": [
    {
     "data": {
      "text/plain": [
       "<Figure size 432x288 with 0 Axes>"
      ]
     },
     "metadata": {},
     "output_type": "display_data"
    },
    {
     "data": {
      "image/png": "[encoded data removed]",
      "text/plain": [
       "<Figure size 288x288 with 1 Axes>"
      ]
     },
     "metadata": {
      "needs_background": "light"
     },
     "output_type": "display_data"
    }
   ],
   "source": [
    "import matplotlib.pyplot as plt\n",
    "plt.gray()\n",
    "plt.matshow(x_train[4])\n",
    "plt.show()"
   ]
  },
  {
   "cell_type": "markdown",
   "id": "a64fde6c",
   "metadata": {},
   "source": [
    "# Gradient Boost Tree with Xgboost"
   ]
  },
  {
   "cell_type": "code",
   "execution_count": 31,
   "id": "e4391bf9",
   "metadata": {},
   "outputs": [],
   "source": [
    "X_train_flat = X_train.reshape(x_train.shape[0], 28*28)\n",
    "X_validation_flat = X_validation.reshape(x_validation.shape[0], 28*28)"
   ]
  },
  {
   "cell_type": "code",
   "execution_count": 33,
   "id": "ea733131",
   "metadata": {},
   "outputs": [
    {
     "name": "stdout",
     "output_type": "stream",
     "text": [
      "{'objective': 'multi:softmax', 'base_score': 0.5, 'booster': 'gbtree', 'colsample_bylevel': None, 'colsample_bynode': 1, 'colsample_bytree': 0.8, 'gamma': 3, 'gpu_id': None, 'interaction_constraints': None, 'learning_rate': 0.3, 'max_delta_step': None, 'max_depth': 7, 'min_child_weight': 10, 'monotone_constraints': None, 'n_jobs': None, 'num_parallel_tree': None, 'random_state': 0, 'reg_alpha': 0, 'reg_lambda': 1, 'scale_pos_weight': None, 'subsample': 0.8, 'tree_method': 'hist', 'validate_parameters': None, 'verbosity': 1, 'num_class': 10, 'seed': 1234}\n",
      "[0]\tvalidation_0-merror:0.12722\tvalidation_0-mlogloss:1.33810\tvalidation_1-merror:0.13960\tvalidation_1-mlogloss:1.34733\n",
      "[1]\tvalidation_0-merror:0.08793\tvalidation_0-mlogloss:1.00636\tvalidation_1-merror:0.10260\tvalidation_1-mlogloss:1.02372\n",
      "[2]\tvalidation_0-merror:0.07303\tvalidation_0-mlogloss:0.79136\tvalidation_1-merror:0.08710\tvalidation_1-mlogloss:0.81512\n",
      "[3]\tvalidation_0-merror:0.06462\tvalidation_0-mlogloss:0.63873\tvalidation_1-merror:0.07750\tvalidation_1-mlogloss:0.66548\n",
      "[4]\tvalidation_0-merror:0.05662\tvalidation_0-mlogloss:0.52314\tvalidation_1-merror:0.07020\tvalidation_1-mlogloss:0.55361\n",
      "[5]\tvalidation_0-merror:0.05122\tvalidation_0-mlogloss:0.43591\tvalidation_1-merror:0.06370\tvalidation_1-mlogloss:0.46895\n",
      "[6]\tvalidation_0-merror:0.04613\tvalidation_0-mlogloss:0.36784\tvalidation_1-merror:0.06000\tvalidation_1-mlogloss:0.40438\n",
      "[7]\tvalidation_0-merror:0.04188\tvalidation_0-mlogloss:0.31430\tvalidation_1-merror:0.05640\tvalidation_1-mlogloss:0.35340\n",
      "[8]\tvalidation_0-merror:0.03887\tvalidation_0-mlogloss:0.27181\tvalidation_1-merror:0.05360\tvalidation_1-mlogloss:0.31348\n",
      "[9]\tvalidation_0-merror:0.03568\tvalidation_0-mlogloss:0.23781\tvalidation_1-merror:0.05070\tvalidation_1-mlogloss:0.28171\n",
      "[10]\tvalidation_0-merror:0.03293\tvalidation_0-mlogloss:0.20987\tvalidation_1-merror:0.04890\tvalidation_1-mlogloss:0.25486\n",
      "[11]\tvalidation_0-merror:0.03065\tvalidation_0-mlogloss:0.18743\tvalidation_1-merror:0.04710\tvalidation_1-mlogloss:0.23392\n",
      "[12]\tvalidation_0-merror:0.02850\tvalidation_0-mlogloss:0.16849\tvalidation_1-merror:0.04510\tvalidation_1-mlogloss:0.21584\n",
      "[13]\tvalidation_0-merror:0.02642\tvalidation_0-mlogloss:0.15218\tvalidation_1-merror:0.04350\tvalidation_1-mlogloss:0.20068\n",
      "[14]\tvalidation_0-merror:0.02480\tvalidation_0-mlogloss:0.13850\tvalidation_1-merror:0.04240\tvalidation_1-mlogloss:0.18747\n",
      "[15]\tvalidation_0-merror:0.02327\tvalidation_0-mlogloss:0.12811\tvalidation_1-merror:0.04160\tvalidation_1-mlogloss:0.17740\n",
      "[16]\tvalidation_0-merror:0.02208\tvalidation_0-mlogloss:0.11907\tvalidation_1-merror:0.04080\tvalidation_1-mlogloss:0.16900\n",
      "[17]\tvalidation_0-merror:0.02112\tvalidation_0-mlogloss:0.11138\tvalidation_1-merror:0.04010\tvalidation_1-mlogloss:0.16159\n",
      "[18]\tvalidation_0-merror:0.01967\tvalidation_0-mlogloss:0.10405\tvalidation_1-merror:0.03900\tvalidation_1-mlogloss:0.15458\n",
      "[19]\tvalidation_0-merror:0.01873\tvalidation_0-mlogloss:0.09773\tvalidation_1-merror:0.03750\tvalidation_1-mlogloss:0.14894\n",
      "[20]\tvalidation_0-merror:0.01762\tvalidation_0-mlogloss:0.09213\tvalidation_1-merror:0.03760\tvalidation_1-mlogloss:0.14363\n",
      "[21]\tvalidation_0-merror:0.01653\tvalidation_0-mlogloss:0.08705\tvalidation_1-merror:0.03710\tvalidation_1-mlogloss:0.13908\n",
      "[22]\tvalidation_0-merror:0.01580\tvalidation_0-mlogloss:0.08240\tvalidation_1-merror:0.03610\tvalidation_1-mlogloss:0.13508\n",
      "[23]\tvalidation_0-merror:0.01468\tvalidation_0-mlogloss:0.07797\tvalidation_1-merror:0.03520\tvalidation_1-mlogloss:0.13073\n",
      "[24]\tvalidation_0-merror:0.01410\tvalidation_0-mlogloss:0.07470\tvalidation_1-merror:0.03430\tvalidation_1-mlogloss:0.12734\n",
      "[25]\tvalidation_0-merror:0.01348\tvalidation_0-mlogloss:0.07154\tvalidation_1-merror:0.03350\tvalidation_1-mlogloss:0.12422\n",
      "[26]\tvalidation_0-merror:0.01288\tvalidation_0-mlogloss:0.06899\tvalidation_1-merror:0.03340\tvalidation_1-mlogloss:0.12189\n",
      "[27]\tvalidation_0-merror:0.01232\tvalidation_0-mlogloss:0.06677\tvalidation_1-merror:0.03270\tvalidation_1-mlogloss:0.11959\n",
      "[28]\tvalidation_0-merror:0.01158\tvalidation_0-mlogloss:0.06350\tvalidation_1-merror:0.03240\tvalidation_1-mlogloss:0.11671\n",
      "[29]\tvalidation_0-merror:0.01123\tvalidation_0-mlogloss:0.06151\tvalidation_1-merror:0.03230\tvalidation_1-mlogloss:0.11489\n",
      "[30]\tvalidation_0-merror:0.01065\tvalidation_0-mlogloss:0.05960\tvalidation_1-merror:0.03250\tvalidation_1-mlogloss:0.11320\n",
      "[31]\tvalidation_0-merror:0.01043\tvalidation_0-mlogloss:0.05757\tvalidation_1-merror:0.03200\tvalidation_1-mlogloss:0.11148\n",
      "[32]\tvalidation_0-merror:0.01002\tvalidation_0-mlogloss:0.05582\tvalidation_1-merror:0.03200\tvalidation_1-mlogloss:0.10999\n",
      "[33]\tvalidation_0-merror:0.00973\tvalidation_0-mlogloss:0.05440\tvalidation_1-merror:0.03130\tvalidation_1-mlogloss:0.10865\n",
      "[34]\tvalidation_0-merror:0.00937\tvalidation_0-mlogloss:0.05332\tvalidation_1-merror:0.03110\tvalidation_1-mlogloss:0.10775\n",
      "[35]\tvalidation_0-merror:0.00907\tvalidation_0-mlogloss:0.05206\tvalidation_1-merror:0.03020\tvalidation_1-mlogloss:0.10676\n",
      "[36]\tvalidation_0-merror:0.00890\tvalidation_0-mlogloss:0.05097\tvalidation_1-merror:0.03050\tvalidation_1-mlogloss:0.10591\n",
      "[37]\tvalidation_0-merror:0.00870\tvalidation_0-mlogloss:0.05017\tvalidation_1-merror:0.03060\tvalidation_1-mlogloss:0.10516\n",
      "[38]\tvalidation_0-merror:0.00845\tvalidation_0-mlogloss:0.04917\tvalidation_1-merror:0.03040\tvalidation_1-mlogloss:0.10422\n",
      "[39]\tvalidation_0-merror:0.00825\tvalidation_0-mlogloss:0.04838\tvalidation_1-merror:0.03020\tvalidation_1-mlogloss:0.10362\n",
      "[40]\tvalidation_0-merror:0.00817\tvalidation_0-mlogloss:0.04775\tvalidation_1-merror:0.03010\tvalidation_1-mlogloss:0.10310\n",
      "[41]\tvalidation_0-merror:0.00790\tvalidation_0-mlogloss:0.04701\tvalidation_1-merror:0.03030\tvalidation_1-mlogloss:0.10236\n",
      "[42]\tvalidation_0-merror:0.00785\tvalidation_0-mlogloss:0.04644\tvalidation_1-merror:0.03010\tvalidation_1-mlogloss:0.10197\n",
      "[43]\tvalidation_0-merror:0.00775\tvalidation_0-mlogloss:0.04592\tvalidation_1-merror:0.02970\tvalidation_1-mlogloss:0.10127\n",
      "[44]\tvalidation_0-merror:0.00767\tvalidation_0-mlogloss:0.04543\tvalidation_1-merror:0.02960\tvalidation_1-mlogloss:0.10072\n",
      "[45]\tvalidation_0-merror:0.00758\tvalidation_0-mlogloss:0.04476\tvalidation_1-merror:0.02920\tvalidation_1-mlogloss:0.10032\n",
      "[46]\tvalidation_0-merror:0.00748\tvalidation_0-mlogloss:0.04436\tvalidation_1-merror:0.02920\tvalidation_1-mlogloss:0.10014\n",
      "[47]\tvalidation_0-merror:0.00742\tvalidation_0-mlogloss:0.04390\tvalidation_1-merror:0.02920\tvalidation_1-mlogloss:0.09991\n",
      "[48]\tvalidation_0-merror:0.00727\tvalidation_0-mlogloss:0.04338\tvalidation_1-merror:0.02840\tvalidation_1-mlogloss:0.09952\n",
      "[49]\tvalidation_0-merror:0.00715\tvalidation_0-mlogloss:0.04289\tvalidation_1-merror:0.02890\tvalidation_1-mlogloss:0.09898\n",
      "[50]\tvalidation_0-merror:0.00715\tvalidation_0-mlogloss:0.04254\tvalidation_1-merror:0.02890\tvalidation_1-mlogloss:0.09875\n",
      "[51]\tvalidation_0-merror:0.00705\tvalidation_0-mlogloss:0.04211\tvalidation_1-merror:0.02870\tvalidation_1-mlogloss:0.09843\n",
      "[52]\tvalidation_0-merror:0.00697\tvalidation_0-mlogloss:0.04189\tvalidation_1-merror:0.02870\tvalidation_1-mlogloss:0.09824\n",
      "[53]\tvalidation_0-merror:0.00688\tvalidation_0-mlogloss:0.04171\tvalidation_1-merror:0.02880\tvalidation_1-mlogloss:0.09818\n",
      "[54]\tvalidation_0-merror:0.00678\tvalidation_0-mlogloss:0.04135\tvalidation_1-merror:0.02840\tvalidation_1-mlogloss:0.09782\n",
      "[55]\tvalidation_0-merror:0.00675\tvalidation_0-mlogloss:0.04111\tvalidation_1-merror:0.02850\tvalidation_1-mlogloss:0.09764\n",
      "[56]\tvalidation_0-merror:0.00670\tvalidation_0-mlogloss:0.04091\tvalidation_1-merror:0.02850\tvalidation_1-mlogloss:0.09743\n",
      "[57]\tvalidation_0-merror:0.00652\tvalidation_0-mlogloss:0.04054\tvalidation_1-merror:0.02810\tvalidation_1-mlogloss:0.09718\n",
      "[58]\tvalidation_0-merror:0.00653\tvalidation_0-mlogloss:0.04041\tvalidation_1-merror:0.02800\tvalidation_1-mlogloss:0.09710\n",
      "[59]\tvalidation_0-merror:0.00647\tvalidation_0-mlogloss:0.04021\tvalidation_1-merror:0.02770\tvalidation_1-mlogloss:0.09689\n",
      "[60]\tvalidation_0-merror:0.00633\tvalidation_0-mlogloss:0.03998\tvalidation_1-merror:0.02790\tvalidation_1-mlogloss:0.09667\n",
      "[61]\tvalidation_0-merror:0.00638\tvalidation_0-mlogloss:0.03966\tvalidation_1-merror:0.02780\tvalidation_1-mlogloss:0.09661\n",
      "[62]\tvalidation_0-merror:0.00632\tvalidation_0-mlogloss:0.03955\tvalidation_1-merror:0.02780\tvalidation_1-mlogloss:0.09647\n",
      "[63]\tvalidation_0-merror:0.00613\tvalidation_0-mlogloss:0.03930\tvalidation_1-merror:0.02790\tvalidation_1-mlogloss:0.09627\n"
     ]
    },
    {
     "name": "stdout",
     "output_type": "stream",
     "text": [
      "[64]\tvalidation_0-merror:0.00603\tvalidation_0-mlogloss:0.03908\tvalidation_1-merror:0.02780\tvalidation_1-mlogloss:0.09602\n",
      "[65]\tvalidation_0-merror:0.00607\tvalidation_0-mlogloss:0.03867\tvalidation_1-merror:0.02790\tvalidation_1-mlogloss:0.09574\n",
      "[66]\tvalidation_0-merror:0.00595\tvalidation_0-mlogloss:0.03843\tvalidation_1-merror:0.02800\tvalidation_1-mlogloss:0.09553\n",
      "[67]\tvalidation_0-merror:0.00593\tvalidation_0-mlogloss:0.03828\tvalidation_1-merror:0.02790\tvalidation_1-mlogloss:0.09539\n",
      "[68]\tvalidation_0-merror:0.00588\tvalidation_0-mlogloss:0.03803\tvalidation_1-merror:0.02790\tvalidation_1-mlogloss:0.09516\n",
      "[69]\tvalidation_0-merror:0.00582\tvalidation_0-mlogloss:0.03792\tvalidation_1-merror:0.02790\tvalidation_1-mlogloss:0.09509\n",
      "[70]\tvalidation_0-merror:0.00573\tvalidation_0-mlogloss:0.03762\tvalidation_1-merror:0.02790\tvalidation_1-mlogloss:0.09475\n",
      "[71]\tvalidation_0-merror:0.00577\tvalidation_0-mlogloss:0.03742\tvalidation_1-merror:0.02770\tvalidation_1-mlogloss:0.09460\n",
      "[72]\tvalidation_0-merror:0.00570\tvalidation_0-mlogloss:0.03730\tvalidation_1-merror:0.02780\tvalidation_1-mlogloss:0.09457\n",
      "[73]\tvalidation_0-merror:0.00565\tvalidation_0-mlogloss:0.03715\tvalidation_1-merror:0.02760\tvalidation_1-mlogloss:0.09453\n",
      "[74]\tvalidation_0-merror:0.00565\tvalidation_0-mlogloss:0.03693\tvalidation_1-merror:0.02730\tvalidation_1-mlogloss:0.09435\n",
      "[75]\tvalidation_0-merror:0.00555\tvalidation_0-mlogloss:0.03660\tvalidation_1-merror:0.02800\tvalidation_1-mlogloss:0.09408\n",
      "[76]\tvalidation_0-merror:0.00545\tvalidation_0-mlogloss:0.03640\tvalidation_1-merror:0.02780\tvalidation_1-mlogloss:0.09387\n",
      "[77]\tvalidation_0-merror:0.00542\tvalidation_0-mlogloss:0.03629\tvalidation_1-merror:0.02750\tvalidation_1-mlogloss:0.09375\n",
      "[78]\tvalidation_0-merror:0.00530\tvalidation_0-mlogloss:0.03614\tvalidation_1-merror:0.02730\tvalidation_1-mlogloss:0.09354\n",
      "[79]\tvalidation_0-merror:0.00532\tvalidation_0-mlogloss:0.03599\tvalidation_1-merror:0.02720\tvalidation_1-mlogloss:0.09337\n",
      "[80]\tvalidation_0-merror:0.00535\tvalidation_0-mlogloss:0.03591\tvalidation_1-merror:0.02720\tvalidation_1-mlogloss:0.09334\n",
      "[81]\tvalidation_0-merror:0.00528\tvalidation_0-mlogloss:0.03576\tvalidation_1-merror:0.02720\tvalidation_1-mlogloss:0.09322\n",
      "[82]\tvalidation_0-merror:0.00532\tvalidation_0-mlogloss:0.03559\tvalidation_1-merror:0.02750\tvalidation_1-mlogloss:0.09307\n",
      "[83]\tvalidation_0-merror:0.00528\tvalidation_0-mlogloss:0.03556\tvalidation_1-merror:0.02750\tvalidation_1-mlogloss:0.09304\n",
      "[84]\tvalidation_0-merror:0.00527\tvalidation_0-mlogloss:0.03541\tvalidation_1-merror:0.02740\tvalidation_1-mlogloss:0.09285\n",
      "[85]\tvalidation_0-merror:0.00523\tvalidation_0-mlogloss:0.03531\tvalidation_1-merror:0.02720\tvalidation_1-mlogloss:0.09280\n",
      "[86]\tvalidation_0-merror:0.00523\tvalidation_0-mlogloss:0.03522\tvalidation_1-merror:0.02720\tvalidation_1-mlogloss:0.09275\n",
      "[87]\tvalidation_0-merror:0.00517\tvalidation_0-mlogloss:0.03501\tvalidation_1-merror:0.02750\tvalidation_1-mlogloss:0.09253\n",
      "[88]\tvalidation_0-merror:0.00523\tvalidation_0-mlogloss:0.03486\tvalidation_1-merror:0.02760\tvalidation_1-mlogloss:0.09236\n",
      "[89]\tvalidation_0-merror:0.00525\tvalidation_0-mlogloss:0.03484\tvalidation_1-merror:0.02750\tvalidation_1-mlogloss:0.09236\n",
      "[90]\tvalidation_0-merror:0.00520\tvalidation_0-mlogloss:0.03480\tvalidation_1-merror:0.02760\tvalidation_1-mlogloss:0.09237\n",
      "[91]\tvalidation_0-merror:0.00515\tvalidation_0-mlogloss:0.03471\tvalidation_1-merror:0.02740\tvalidation_1-mlogloss:0.09227\n",
      "[92]\tvalidation_0-merror:0.00515\tvalidation_0-mlogloss:0.03459\tvalidation_1-merror:0.02740\tvalidation_1-mlogloss:0.09219\n",
      "[93]\tvalidation_0-merror:0.00517\tvalidation_0-mlogloss:0.03450\tvalidation_1-merror:0.02740\tvalidation_1-mlogloss:0.09214\n",
      "[94]\tvalidation_0-merror:0.00517\tvalidation_0-mlogloss:0.03450\tvalidation_1-merror:0.02740\tvalidation_1-mlogloss:0.09215\n",
      "[95]\tvalidation_0-merror:0.00512\tvalidation_0-mlogloss:0.03437\tvalidation_1-merror:0.02730\tvalidation_1-mlogloss:0.09201\n",
      "[96]\tvalidation_0-merror:0.00513\tvalidation_0-mlogloss:0.03432\tvalidation_1-merror:0.02730\tvalidation_1-mlogloss:0.09201\n",
      "[97]\tvalidation_0-merror:0.00507\tvalidation_0-mlogloss:0.03418\tvalidation_1-merror:0.02690\tvalidation_1-mlogloss:0.09194\n",
      "[98]\tvalidation_0-merror:0.00503\tvalidation_0-mlogloss:0.03413\tvalidation_1-merror:0.02700\tvalidation_1-mlogloss:0.09188\n",
      "[99]\tvalidation_0-merror:0.00495\tvalidation_0-mlogloss:0.03402\tvalidation_1-merror:0.02710\tvalidation_1-mlogloss:0.09182\n",
      "[100]\tvalidation_0-merror:0.00492\tvalidation_0-mlogloss:0.03398\tvalidation_1-merror:0.02700\tvalidation_1-mlogloss:0.09178\n",
      "[101]\tvalidation_0-merror:0.00490\tvalidation_0-mlogloss:0.03391\tvalidation_1-merror:0.02690\tvalidation_1-mlogloss:0.09165\n",
      "[102]\tvalidation_0-merror:0.00490\tvalidation_0-mlogloss:0.03385\tvalidation_1-merror:0.02700\tvalidation_1-mlogloss:0.09159\n",
      "[103]\tvalidation_0-merror:0.00488\tvalidation_0-mlogloss:0.03385\tvalidation_1-merror:0.02700\tvalidation_1-mlogloss:0.09161\n",
      "[104]\tvalidation_0-merror:0.00485\tvalidation_0-mlogloss:0.03373\tvalidation_1-merror:0.02690\tvalidation_1-mlogloss:0.09151\n",
      "[105]\tvalidation_0-merror:0.00482\tvalidation_0-mlogloss:0.03369\tvalidation_1-merror:0.02680\tvalidation_1-mlogloss:0.09150\n",
      "[106]\tvalidation_0-merror:0.00482\tvalidation_0-mlogloss:0.03365\tvalidation_1-merror:0.02680\tvalidation_1-mlogloss:0.09147\n",
      "[107]\tvalidation_0-merror:0.00480\tvalidation_0-mlogloss:0.03358\tvalidation_1-merror:0.02680\tvalidation_1-mlogloss:0.09142\n",
      "[108]\tvalidation_0-merror:0.00482\tvalidation_0-mlogloss:0.03353\tvalidation_1-merror:0.02670\tvalidation_1-mlogloss:0.09135\n",
      "[109]\tvalidation_0-merror:0.00475\tvalidation_0-mlogloss:0.03345\tvalidation_1-merror:0.02670\tvalidation_1-mlogloss:0.09121\n",
      "[110]\tvalidation_0-merror:0.00478\tvalidation_0-mlogloss:0.03345\tvalidation_1-merror:0.02670\tvalidation_1-mlogloss:0.09120\n",
      "[111]\tvalidation_0-merror:0.00472\tvalidation_0-mlogloss:0.03343\tvalidation_1-merror:0.02670\tvalidation_1-mlogloss:0.09122\n",
      "[112]\tvalidation_0-merror:0.00470\tvalidation_0-mlogloss:0.03339\tvalidation_1-merror:0.02680\tvalidation_1-mlogloss:0.09116\n",
      "[113]\tvalidation_0-merror:0.00470\tvalidation_0-mlogloss:0.03339\tvalidation_1-merror:0.02690\tvalidation_1-mlogloss:0.09116\n",
      "[114]\tvalidation_0-merror:0.00472\tvalidation_0-mlogloss:0.03334\tvalidation_1-merror:0.02680\tvalidation_1-mlogloss:0.09118\n",
      "[115]\tvalidation_0-merror:0.00470\tvalidation_0-mlogloss:0.03329\tvalidation_1-merror:0.02680\tvalidation_1-mlogloss:0.09108\n",
      "[116]\tvalidation_0-merror:0.00472\tvalidation_0-mlogloss:0.03327\tvalidation_1-merror:0.02670\tvalidation_1-mlogloss:0.09104\n",
      "[117]\tvalidation_0-merror:0.00473\tvalidation_0-mlogloss:0.03327\tvalidation_1-merror:0.02660\tvalidation_1-mlogloss:0.09104\n",
      "[118]\tvalidation_0-merror:0.00472\tvalidation_0-mlogloss:0.03324\tvalidation_1-merror:0.02670\tvalidation_1-mlogloss:0.09102\n",
      "[119]\tvalidation_0-merror:0.00472\tvalidation_0-mlogloss:0.03324\tvalidation_1-merror:0.02670\tvalidation_1-mlogloss:0.09102\n",
      "[120]\tvalidation_0-merror:0.00468\tvalidation_0-mlogloss:0.03321\tvalidation_1-merror:0.02670\tvalidation_1-mlogloss:0.09101\n",
      "[121]\tvalidation_0-merror:0.00462\tvalidation_0-mlogloss:0.03316\tvalidation_1-merror:0.02660\tvalidation_1-mlogloss:0.09094\n",
      "[122]\tvalidation_0-merror:0.00458\tvalidation_0-mlogloss:0.03313\tvalidation_1-merror:0.02660\tvalidation_1-mlogloss:0.09092\n",
      "[123]\tvalidation_0-merror:0.00465\tvalidation_0-mlogloss:0.03311\tvalidation_1-merror:0.02670\tvalidation_1-mlogloss:0.09086\n",
      "[124]\tvalidation_0-merror:0.00462\tvalidation_0-mlogloss:0.03306\tvalidation_1-merror:0.02680\tvalidation_1-mlogloss:0.09082\n",
      "[125]\tvalidation_0-merror:0.00463\tvalidation_0-mlogloss:0.03301\tvalidation_1-merror:0.02660\tvalidation_1-mlogloss:0.09080\n",
      "[126]\tvalidation_0-merror:0.00453\tvalidation_0-mlogloss:0.03290\tvalidation_1-merror:0.02640\tvalidation_1-mlogloss:0.09070\n",
      "[127]\tvalidation_0-merror:0.00452\tvalidation_0-mlogloss:0.03287\tvalidation_1-merror:0.02650\tvalidation_1-mlogloss:0.09066\n",
      "[128]\tvalidation_0-merror:0.00450\tvalidation_0-mlogloss:0.03285\tvalidation_1-merror:0.02660\tvalidation_1-mlogloss:0.09056\n",
      "[129]\tvalidation_0-merror:0.00450\tvalidation_0-mlogloss:0.03285\tvalidation_1-merror:0.02650\tvalidation_1-mlogloss:0.09056\n",
      "[130]\tvalidation_0-merror:0.00453\tvalidation_0-mlogloss:0.03281\tvalidation_1-merror:0.02660\tvalidation_1-mlogloss:0.09052\n",
      "[131]\tvalidation_0-merror:0.00448\tvalidation_0-mlogloss:0.03274\tvalidation_1-merror:0.02650\tvalidation_1-mlogloss:0.09050\n"
     ]
    },
    {
     "name": "stdout",
     "output_type": "stream",
     "text": [
      "[132]\tvalidation_0-merror:0.00443\tvalidation_0-mlogloss:0.03268\tvalidation_1-merror:0.02640\tvalidation_1-mlogloss:0.09047\n",
      "[133]\tvalidation_0-merror:0.00445\tvalidation_0-mlogloss:0.03261\tvalidation_1-merror:0.02670\tvalidation_1-mlogloss:0.09041\n",
      "[134]\tvalidation_0-merror:0.00445\tvalidation_0-mlogloss:0.03251\tvalidation_1-merror:0.02650\tvalidation_1-mlogloss:0.09020\n",
      "[135]\tvalidation_0-merror:0.00445\tvalidation_0-mlogloss:0.03247\tvalidation_1-merror:0.02660\tvalidation_1-mlogloss:0.09011\n",
      "[136]\tvalidation_0-merror:0.00445\tvalidation_0-mlogloss:0.03240\tvalidation_1-merror:0.02660\tvalidation_1-mlogloss:0.09004\n",
      "[137]\tvalidation_0-merror:0.00445\tvalidation_0-mlogloss:0.03234\tvalidation_1-merror:0.02660\tvalidation_1-mlogloss:0.08998\n",
      "[138]\tvalidation_0-merror:0.00447\tvalidation_0-mlogloss:0.03228\tvalidation_1-merror:0.02660\tvalidation_1-mlogloss:0.08989\n",
      "[139]\tvalidation_0-merror:0.00447\tvalidation_0-mlogloss:0.03228\tvalidation_1-merror:0.02660\tvalidation_1-mlogloss:0.08988\n",
      "[140]\tvalidation_0-merror:0.00447\tvalidation_0-mlogloss:0.03223\tvalidation_1-merror:0.02670\tvalidation_1-mlogloss:0.08984\n",
      "[141]\tvalidation_0-merror:0.00447\tvalidation_0-mlogloss:0.03221\tvalidation_1-merror:0.02660\tvalidation_1-mlogloss:0.08977\n",
      "[142]\tvalidation_0-merror:0.00443\tvalidation_0-mlogloss:0.03207\tvalidation_1-merror:0.02670\tvalidation_1-mlogloss:0.08970\n",
      "[143]\tvalidation_0-merror:0.00438\tvalidation_0-mlogloss:0.03199\tvalidation_1-merror:0.02640\tvalidation_1-mlogloss:0.08967\n",
      "[144]\tvalidation_0-merror:0.00440\tvalidation_0-mlogloss:0.03199\tvalidation_1-merror:0.02650\tvalidation_1-mlogloss:0.08966\n",
      "[145]\tvalidation_0-merror:0.00440\tvalidation_0-mlogloss:0.03199\tvalidation_1-merror:0.02660\tvalidation_1-mlogloss:0.08967\n",
      "[146]\tvalidation_0-merror:0.00440\tvalidation_0-mlogloss:0.03189\tvalidation_1-merror:0.02700\tvalidation_1-mlogloss:0.08968\n",
      "[147]\tvalidation_0-merror:0.00440\tvalidation_0-mlogloss:0.03184\tvalidation_1-merror:0.02700\tvalidation_1-mlogloss:0.08970\n",
      "[148]\tvalidation_0-merror:0.00440\tvalidation_0-mlogloss:0.03180\tvalidation_1-merror:0.02710\tvalidation_1-mlogloss:0.08968\n"
     ]
    }
   ],
   "source": [
    "from xgboost import XGBClassifier\n",
    "\n",
    "my_model = XGBClassifier(\n",
    "    base_score=0.5,\n",
    "    objective='multi:softmax',\n",
    "    num_class=10,\n",
    "    \n",
    "    gamma=3,\n",
    "    max_depth=7,\n",
    "    learning_rate=0.3, \n",
    "    min_child_weight=10,\n",
    "    n_estimators=1000,\n",
    "    subsample=0.8,\n",
    "    colsample_bynode=1,\n",
    "    colsample_bytree=0.8,\n",
    "    reg_alpha=0,\n",
    "    reg_lambda=1,\n",
    "\n",
    "    random_state=0,\n",
    "    booster='gbtree',\n",
    "    tree_method='hist',\n",
    "    seed=1234,\n",
    "    missing=-1,\n",
    "    verbosity=1\n",
    ")\n",
    "\n",
    "print(my_model.get_xgb_params())\n",
    "\n",
    "trained = my_model.fit(\n",
    "    X_train_flat, y_train, early_stopping_rounds=5,\n",
    "    # the last metric is used for early stopping\n",
    "    eval_metric=[\"merror\", \"mlogloss\"],\n",
    "    eval_set=[(X_train_flat, y_train), (X_validation_flat, y_validation)], verbose=True)\n"
   ]
  },
  {
   "cell_type": "code",
   "execution_count": 35,
   "id": "b113ea26",
   "metadata": {},
   "outputs": [],
   "source": [
    "from sklearn.metrics import classification_report, confusion_matrix\n",
    "CATEGORIES = list(range(0, 10))"
   ]
  },
  {
   "cell_type": "code",
   "execution_count": 36,
   "id": "cf056989",
   "metadata": {},
   "outputs": [
    {
     "name": "stdout",
     "output_type": "stream",
     "text": [
      "              precision    recall  f1-score   support\n",
      "\n",
      "           0     0.9748    0.9857    0.9802       980\n",
      "           1     0.9877    0.9912    0.9894      1135\n",
      "           2     0.9708    0.9661    0.9684      1032\n",
      "           3     0.9647    0.9743    0.9695      1010\n",
      "           4     0.9815    0.9715    0.9765       982\n",
      "           5     0.9807    0.9697    0.9752       892\n",
      "           6     0.9731    0.9812    0.9771       958\n",
      "           7     0.9763    0.9611    0.9686      1028\n",
      "           8     0.9614    0.9713    0.9663       974\n",
      "           9     0.9633    0.9613    0.9623      1009\n",
      "\n",
      "    accuracy                         0.9735     10000\n",
      "   macro avg     0.9734    0.9733    0.9734     10000\n",
      "weighted avg     0.9735    0.9735    0.9735     10000\n",
      "\n"
     ]
    }
   ],
   "source": [
    "y_hat = trained.predict(X_validation_flat)\n",
    "print(classification_report(y_true=y_validation, y_pred=y_hat, digits=4))"
   ]
  },
  {
   "cell_type": "code",
   "execution_count": 37,
   "id": "5e99eddd",
   "metadata": {},
   "outputs": [
    {
     "data": {
      "text/plain": [
       "array([[ 966,    1,    0,    1,    0,    2,    6,    1,    2,    1],\n",
       "       [   0, 1125,    1,    2,    0,    1,    3,    0,    3,    0],\n",
       "       [   5,    0,  997,    6,    2,    1,    2,    8,    9,    2],\n",
       "       [   1,    0,    4,  984,    0,    4,    1,    7,    6,    3],\n",
       "       [   0,    0,    6,    1,  954,    0,    2,    0,    3,   16],\n",
       "       [   2,    1,    0,    8,    0,  865,    6,    3,    7,    0],\n",
       "       [   6,    2,    0,    0,    2,    4,  940,    0,    4,    0],\n",
       "       [   2,    5,   14,    6,    3,    0,    0,  988,    0,   10],\n",
       "       [   4,    0,    3,    6,    1,    3,    5,    1,  946,    5],\n",
       "       [   5,    5,    2,    6,   10,    2,    1,    4,    4,  970]])"
      ]
     },
     "execution_count": 37,
     "metadata": {},
     "output_type": "execute_result"
    }
   ],
   "source": [
    "cm = confusion_matrix(y_true=y_validation, y_pred=y_hat, labels=CATEGORIES)\n",
    "cm"
   ]
  },
  {
   "cell_type": "markdown",
   "id": "23c42597",
   "metadata": {},
   "source": [
    "# Simple CNN"
   ]
  },
  {
   "cell_type": "code",
   "execution_count": 43,
   "id": "fd3cf67b",
   "metadata": {},
   "outputs": [],
   "source": [
    "import tensorflow as tf\n",
    "\n",
    "from tensorflow import keras as keras\n",
    "from tensorflow.keras.optimizers import Adam\n",
    "from tensorflow.keras import regularizers\n",
    "from tensorflow.keras.callbacks import CSVLogger, ModelCheckpoint, History, ReduceLROnPlateau, TensorBoard, EarlyStopping\n",
    "from tensorflow.keras.layers import Activation, BatchNormalization, Input, Reshape, Dense, Conv2D, Dropout\n",
    "from tensorflow.keras.models import Model, load_model\n",
    "from tensorflow.keras.metrics import CategoricalAccuracy, SparseCategoricalCrossentropy, SparseCategoricalAccuracy\n"
   ]
  },
  {
   "cell_type": "code",
   "execution_count": 75,
   "id": "c34ded17",
   "metadata": {},
   "outputs": [],
   "source": [
    "def build_cnn():\n",
    "    inputs = Input(shape=(28, 28, 1,))\n",
    "    l = inputs\n",
    "    \n",
    "    l = Conv2D(\n",
    "        filters=32,kernel_size=[3,3],\n",
    "        padding='same',activation='relu', name='conv1')(l)\n",
    "#     l = BatchNormalization()(l)\n",
    "    l = Dropout(0.2)(l)\n",
    "\n",
    "    \n",
    "    l = Conv2D(\n",
    "        filters=16,kernel_size=[3,3],\n",
    "        padding='same',activation='relu', name='conv2')(l)\n",
    "#     l = BatchNormalization()(l)\n",
    "\n",
    "        \n",
    "    l = Conv2D(\n",
    "        filters=4,kernel_size=[3,3],\n",
    "        padding='same',activation='relu', name='conv3')(l)\n",
    "#     l = BatchNormalization()(l)\n",
    "    \n",
    "    l = Reshape((4*28*28,), name='flatten')(l)\n",
    "    l = Dense(10, activation=\"softmax\", name='main_output')(l)\n",
    "\n",
    "\n",
    "    m_cnn = Model(inputs=inputs, outputs=l)\n",
    "    print(m_cnn.summary())\n",
    "    return m_cnn\n",
    "\n",
    "def model_train(X_train, y_train, X_val, y_val, model):\n",
    "    print(model.summary())\n",
    "    early_stop = EarlyStopping(\n",
    "        monitor=\"val_loss\", min_delta=1e-5, patience=3,\n",
    "        verbose=0, mode=\"auto\", baseline=None, restore_best_weights=True\n",
    "    )\n",
    "    reduce_lr = ReduceLROnPlateau(monitor='val_loss', factor=0.8, patience=1, min_lr=1e-5)\n",
    "\n",
    "    callbacks_list = [early_stop, reduce_lr]\n",
    "\n",
    "    # optimizer: gradient descent implementation\n",
    "    adam_wn = Adam(learning_rate=2e-3)\n",
    "    \n",
    "    # compile model with loss and optimizer; loss function needs to match the intention and the output of the last layer\n",
    "    model.compile(\n",
    "        loss=\"sparse_categorical_crossentropy\", optimizer=adam_wn,\n",
    "        metrics=[SparseCategoricalAccuracy()]\n",
    "    )\n",
    "    \n",
    "    # kick off model training\n",
    "    return model.fit(\n",
    "        x=X_train, y=y_train, validation_data=(X_val, y_val), batch_size=128,\n",
    "        epochs=100, verbose=1, shuffle=True,\n",
    "        callbacks=callbacks_list)\n"
   ]
  },
  {
   "cell_type": "code",
   "execution_count": 45,
   "id": "823b66d8",
   "metadata": {},
   "outputs": [],
   "source": [
    "X_train_scaled = X_train.astype(\"float32\") / 255\n",
    "X_validation_scaled = X_validation.astype(\"float32\") / 255"
   ]
  },
  {
   "cell_type": "code",
   "execution_count": 78,
   "id": "0884a5fb",
   "metadata": {},
   "outputs": [],
   "source": [
    "idx = -1"
   ]
  },
  {
   "cell_type": "code",
   "execution_count": 79,
   "id": "7544b2db",
   "metadata": {},
   "outputs": [
    {
     "name": "stdout",
     "output_type": "stream",
     "text": [
      "Model: \"model_10\"\n",
      "_________________________________________________________________\n",
      "Layer (type)                 Output Shape              Param #   \n",
      "=================================================================\n",
      "input_13 (InputLayer)        [(None, 28, 28, 1)]       0         \n",
      "_________________________________________________________________\n",
      "conv1 (Conv2D)               (None, 28, 28, 32)        320       \n",
      "_________________________________________________________________\n",
      "dropout_4 (Dropout)          (None, 28, 28, 32)        0         \n",
      "_________________________________________________________________\n",
      "conv2 (Conv2D)               (None, 28, 28, 16)        4624      \n",
      "_________________________________________________________________\n",
      "conv3 (Conv2D)               (None, 28, 28, 4)         580       \n",
      "_________________________________________________________________\n",
      "flatten (Reshape)            (None, 3136)              0         \n",
      "_________________________________________________________________\n",
      "main_output (Dense)          (None, 10)                31370     \n",
      "=================================================================\n",
      "Total params: 36,894\n",
      "Trainable params: 36,894\n",
      "Non-trainable params: 0\n",
      "_________________________________________________________________\n",
      "None\n",
      "Model: \"model_10\"\n",
      "_________________________________________________________________\n",
      "Layer (type)                 Output Shape              Param #   \n",
      "=================================================================\n",
      "input_13 (InputLayer)        [(None, 28, 28, 1)]       0         \n",
      "_________________________________________________________________\n",
      "conv1 (Conv2D)               (None, 28, 28, 32)        320       \n",
      "_________________________________________________________________\n",
      "dropout_4 (Dropout)          (None, 28, 28, 32)        0         \n",
      "_________________________________________________________________\n",
      "conv2 (Conv2D)               (None, 28, 28, 16)        4624      \n",
      "_________________________________________________________________\n",
      "conv3 (Conv2D)               (None, 28, 28, 4)         580       \n",
      "_________________________________________________________________\n",
      "flatten (Reshape)            (None, 3136)              0         \n",
      "_________________________________________________________________\n",
      "main_output (Dense)          (None, 10)                31370     \n",
      "=================================================================\n",
      "Total params: 36,894\n",
      "Trainable params: 36,894\n",
      "Non-trainable params: 0\n",
      "_________________________________________________________________\n",
      "None\n",
      "Epoch 1/100\n",
      "469/469 [==============================] - 47s 99ms/step - loss: 0.2433 - sparse_categorical_accuracy: 0.9276 - val_loss: 0.0946 - val_sparse_categorical_accuracy: 0.9689\n",
      "Epoch 2/100\n",
      "469/469 [==============================] - 44s 94ms/step - loss: 0.0900 - sparse_categorical_accuracy: 0.9730 - val_loss: 0.0677 - val_sparse_categorical_accuracy: 0.9786\n",
      "Epoch 3/100\n",
      "469/469 [==============================] - 45s 96ms/step - loss: 0.0696 - sparse_categorical_accuracy: 0.9789 - val_loss: 0.0552 - val_sparse_categorical_accuracy: 0.9820\n",
      "Epoch 4/100\n",
      "469/469 [==============================] - 43s 92ms/step - loss: 0.0576 - sparse_categorical_accuracy: 0.9823 - val_loss: 0.0615 - val_sparse_categorical_accuracy: 0.9787\n",
      "Epoch 5/100\n",
      "469/469 [==============================] - 41s 87ms/step - loss: 0.0457 - sparse_categorical_accuracy: 0.9858 - val_loss: 0.0590 - val_sparse_categorical_accuracy: 0.9804\n",
      "Epoch 6/100\n",
      "469/469 [==============================] - 43s 91ms/step - loss: 0.0357 - sparse_categorical_accuracy: 0.9888 - val_loss: 0.0542 - val_sparse_categorical_accuracy: 0.9836\n",
      "Epoch 7/100\n",
      "469/469 [==============================] - 42s 90ms/step - loss: 0.0333 - sparse_categorical_accuracy: 0.9899 - val_loss: 0.0535 - val_sparse_categorical_accuracy: 0.9831\n",
      "Epoch 8/100\n",
      "469/469 [==============================] - 42s 89ms/step - loss: 0.0289 - sparse_categorical_accuracy: 0.9908 - val_loss: 0.0529 - val_sparse_categorical_accuracy: 0.9839\n",
      "Epoch 9/100\n",
      "469/469 [==============================] - 46s 98ms/step - loss: 0.0265 - sparse_categorical_accuracy: 0.9913 - val_loss: 0.0544 - val_sparse_categorical_accuracy: 0.9838\n",
      "Epoch 10/100\n",
      "469/469 [==============================] - 44s 93ms/step - loss: 0.0218 - sparse_categorical_accuracy: 0.9931 - val_loss: 0.0599 - val_sparse_categorical_accuracy: 0.9844\n",
      "Epoch 11/100\n",
      "469/469 [==============================] - 43s 91ms/step - loss: 0.0172 - sparse_categorical_accuracy: 0.9944 - val_loss: 0.0544 - val_sparse_categorical_accuracy: 0.9856\n"
     ]
    },
    {
     "data": {
      "text/plain": [
       "<keras.callbacks.History at 0x7fadd90e0690>"
      ]
     },
     "execution_count": 79,
     "metadata": {},
     "output_type": "execute_result"
    }
   ],
   "source": [
    "\n",
    "my_tf_model = build_cnn()\n",
    "\n",
    "model_train(X_train_scaled[0:idx], y_train[0:idx], X_validation_scaled, y_validation, my_tf_model)"
   ]
  },
  {
   "cell_type": "code",
   "execution_count": 59,
   "id": "ac25d3cf",
   "metadata": {},
   "outputs": [
    {
     "name": "stdout",
     "output_type": "stream",
     "text": [
      "              precision    recall  f1-score   support\n",
      "\n",
      "           0     0.9652    0.9918    0.9784       980\n",
      "           1     0.9920    0.9850    0.9885      1135\n",
      "           2     0.9660    0.9622    0.9641      1032\n",
      "           3     0.9858    0.9653    0.9755      1010\n",
      "           4     0.9906    0.9674    0.9789       982\n",
      "           5     0.9896    0.9563    0.9726       892\n",
      "           6     0.9883    0.9697    0.9789       958\n",
      "           7     0.9615    0.9728    0.9671      1028\n",
      "           8     0.9181    0.9784    0.9473       974\n",
      "           9     0.9653    0.9663    0.9658      1009\n",
      "\n",
      "    accuracy                         0.9718     10000\n",
      "   macro avg     0.9723    0.9715    0.9717     10000\n",
      "weighted avg     0.9723    0.9718    0.9719     10000\n",
      "\n"
     ]
    }
   ],
   "source": [
    "import numpy as np\n",
    "y_hat = np.argmax(my_tf_model.predict(X_validation_scaled), axis=1)\n",
    "print(classification_report(y_true=y_validation, y_pred=y_hat, digits=4))"
   ]
  },
  {
   "cell_type": "code",
   "execution_count": 60,
   "id": "d736e538",
   "metadata": {},
   "outputs": [
    {
     "data": {
      "text/plain": [
       "array([[ 972,    0,    0,    0,    1,    0,    0,    2,    5,    0],\n",
       "       [   1, 1118,    6,    1,    0,    0,    0,    3,    6,    0],\n",
       "       [   5,    0,  993,    2,    2,    0,    2,   10,   18,    0],\n",
       "       [   0,    0,    8,  975,    0,    3,    0,    9,   14,    1],\n",
       "       [   2,    0,    4,    0,  950,    0,    1,    2,    3,   20],\n",
       "       [   3,    0,    0,    6,    0,  853,    7,    1,   19,    3],\n",
       "       [  13,    2,    2,    1,    2,    2,  929,    0,    7,    0],\n",
       "       [   2,    2,    9,    2,    1,    0,    0, 1000,    4,    8],\n",
       "       [   5,    0,    6,    1,    1,    0,    1,    4,  953,    3],\n",
       "       [   4,    5,    0,    1,    2,    4,    0,    9,    9,  975]])"
      ]
     },
     "execution_count": 60,
     "metadata": {},
     "output_type": "execute_result"
    }
   ],
   "source": [
    "cm = confusion_matrix(y_true=y_validation, y_pred=y_hat, labels=CATEGORIES)\n",
    "cm"
   ]
  },
  {
   "cell_type": "code",
   "execution_count": null,
   "id": "88df0188",
   "metadata": {},
   "outputs": [],
   "source": []
  }
 ],
 "metadata": {
  "kernelspec": {
   "display_name": "Python 3 (ipykernel)",
   "language": "python",
   "name": "python3"
  },
  "language_info": {
   "codemirror_mode": {
    "name": "ipython",
    "version": 3
   },
   "file_extension": ".py",
   "mimetype": "text/x-python",
   "name": "python",
   "nbconvert_exporter": "python",
   "pygments_lexer": "ipython3",
   "version": "3.7.11"
  }
 },
 "nbformat": 4,
 "nbformat_minor": 5
}
