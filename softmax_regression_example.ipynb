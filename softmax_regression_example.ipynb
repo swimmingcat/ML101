{
 "cells": [
  {
   "cell_type": "code",
   "execution_count": 1,
   "id": "c0a9640d",
   "metadata": {},
   "outputs": [],
   "source": [
    "import sklearn\n",
    "import numpy as np\n",
    "import pandas as pd\n",
    "import xgboost as xgb\n",
    "import tensorflow as tf\n"
   ]
  },
  {
   "cell_type": "markdown",
   "id": "a5e97bf4",
   "metadata": {},
   "source": [
    "Wine data set\n",
    "\n",
    "https://scikit-learn.org/stable/datasets/toy_dataset.html#wine-dataset"
   ]
  },
  {
   "cell_type": "code",
   "execution_count": 2,
   "id": "11689ee8",
   "metadata": {},
   "outputs": [],
   "source": [
    "from sklearn import datasets\n",
    "\n",
    "wine = datasets.load_wine()\n",
    "X = wine.data\n",
    "y = wine.target"
   ]
  },
  {
   "cell_type": "code",
   "execution_count": 3,
   "id": "8961d381",
   "metadata": {},
   "outputs": [
    {
     "data": {
      "text/plain": [
       "(178, 13)"
      ]
     },
     "execution_count": 3,
     "metadata": {},
     "output_type": "execute_result"
    }
   ],
   "source": [
    "X.shape"
   ]
  },
  {
   "cell_type": "code",
   "execution_count": 4,
   "id": "14831494",
   "metadata": {},
   "outputs": [
    {
     "data": {
      "text/plain": [
       "(178,)"
      ]
     },
     "execution_count": 4,
     "metadata": {},
     "output_type": "execute_result"
    }
   ],
   "source": [
    "y.shape"
   ]
  },
  {
   "cell_type": "code",
   "execution_count": 5,
   "id": "8467722a",
   "metadata": {},
   "outputs": [],
   "source": [
    "from sklearn.model_selection import train_test_split\n",
    "\n",
    "X_train, X_validation, y_train, y_validation = train_test_split(X, y, test_size=0.2, random_state=42)"
   ]
  },
  {
   "cell_type": "markdown",
   "id": "8fb2c3dd",
   "metadata": {},
   "source": [
    "# Softmax Regression With SKLearn"
   ]
  },
  {
   "cell_type": "code",
   "execution_count": 104,
   "id": "3fe2b220",
   "metadata": {},
   "outputs": [
    {
     "name": "stderr",
     "output_type": "stream",
     "text": [
      "[Parallel(n_jobs=1)]: Using backend SequentialBackend with 1 concurrent workers.\n",
      "[Parallel(n_jobs=1)]: Done   1 out of   1 | elapsed:    0.2s finished\n"
     ]
    }
   ],
   "source": [
    "from sklearn.linear_model import LogisticRegression\n",
    "\n",
    "lr_model = LogisticRegression(\n",
    "    multi_class='multinomial',\n",
    "    tol=1e-4,\n",
    "    solver='newton-cg',\n",
    "    max_iter=1000,\n",
    "    verbose=1,\n",
    "    penalty='l2'\n",
    ").fit(X_train, y_train)\n"
   ]
  },
  {
   "cell_type": "code",
   "execution_count": 105,
   "id": "cd55da96",
   "metadata": {},
   "outputs": [
    {
     "name": "stdout",
     "output_type": "stream",
     "text": [
      "Logloss: 0.03898258791110504\n"
     ]
    }
   ],
   "source": [
    "from sklearn.metrics import log_loss\n",
    "import math\n",
    "\n",
    "y_prob = lr_model.predict_proba(X)\n",
    "mlogloss = log_loss(y, y_prob)\n",
    "\n",
    "print(\"Logloss: {}\".format(mlogloss))\n"
   ]
  },
  {
   "cell_type": "code",
   "execution_count": 106,
   "id": "e3b2b121",
   "metadata": {},
   "outputs": [],
   "source": [
    "from sklearn.metrics import classification_report, confusion_matrix\n",
    "CATEGORIES = [0, 1, 2]\n"
   ]
  },
  {
   "cell_type": "code",
   "execution_count": 107,
   "id": "b1cbfe03",
   "metadata": {},
   "outputs": [],
   "source": [
    "y_hat = lr_model.predict(X)"
   ]
  },
  {
   "cell_type": "code",
   "execution_count": 108,
   "id": "196b6400",
   "metadata": {},
   "outputs": [
    {
     "name": "stdout",
     "output_type": "stream",
     "text": [
      "              precision    recall  f1-score   support\n",
      "\n",
      "           0     1.0000    0.9831    0.9915        59\n",
      "           1     0.9861    1.0000    0.9930        71\n",
      "           2     1.0000    1.0000    1.0000        48\n",
      "\n",
      "    accuracy                         0.9944       178\n",
      "   macro avg     0.9954    0.9944    0.9948       178\n",
      "weighted avg     0.9945    0.9944    0.9944       178\n",
      "\n"
     ]
    }
   ],
   "source": [
    "print(classification_report(y_true=y, y_pred=y_hat, digits=4))"
   ]
  },
  {
   "cell_type": "code",
   "execution_count": 109,
   "id": "09ddce11",
   "metadata": {},
   "outputs": [],
   "source": [
    "cm = confusion_matrix(y_true=y, y_pred=y_hat, labels=CATEGORIES)"
   ]
  },
  {
   "cell_type": "code",
   "execution_count": 110,
   "id": "797c86d7",
   "metadata": {},
   "outputs": [
    {
     "data": {
      "text/plain": [
       "array([[58,  1,  0],\n",
       "       [ 0, 71,  0],\n",
       "       [ 0,  0, 48]])"
      ]
     },
     "execution_count": 110,
     "metadata": {},
     "output_type": "execute_result"
    }
   ],
   "source": [
    "cm"
   ]
  },
  {
   "cell_type": "markdown",
   "id": "a64fde6c",
   "metadata": {},
   "source": [
    "# Gradient Boost Tree with Xgboost"
   ]
  },
  {
   "cell_type": "code",
   "execution_count": 35,
   "id": "ea733131",
   "metadata": {},
   "outputs": [
    {
     "name": "stdout",
     "output_type": "stream",
     "text": [
      "{'objective': 'multi:softmax', 'base_score': 0.5, 'booster': 'gbtree', 'colsample_bylevel': None, 'colsample_bynode': 1, 'colsample_bytree': 0.8, 'gamma': 0, 'gpu_id': None, 'interaction_constraints': None, 'learning_rate': 0.3, 'max_delta_step': None, 'max_depth': 3, 'min_child_weight': 1, 'monotone_constraints': None, 'n_jobs': None, 'num_parallel_tree': None, 'random_state': 0, 'reg_alpha': 0, 'reg_lambda': 1, 'scale_pos_weight': None, 'subsample': 0.8, 'tree_method': 'hist', 'validate_parameters': None, 'verbosity': 1, 'num_class': 3, 'seed': 1234}\n",
      "[0]\tvalidation_0-merror:0.03521\tvalidation_0-mlogloss:0.76320\tvalidation_1-merror:0.05556\tvalidation_1-mlogloss:0.77069\n",
      "[1]\tvalidation_0-merror:0.00704\tvalidation_0-mlogloss:0.55670\tvalidation_1-merror:0.00000\tvalidation_1-mlogloss:0.56952\n",
      "[2]\tvalidation_0-merror:0.00704\tvalidation_0-mlogloss:0.41889\tvalidation_1-merror:0.00000\tvalidation_1-mlogloss:0.43899\n",
      "[3]\tvalidation_0-merror:0.00000\tvalidation_0-mlogloss:0.31685\tvalidation_1-merror:0.00000\tvalidation_1-mlogloss:0.34361\n",
      "[4]\tvalidation_0-merror:0.00000\tvalidation_0-mlogloss:0.24815\tvalidation_1-merror:0.00000\tvalidation_1-mlogloss:0.27091\n",
      "[5]\tvalidation_0-merror:0.00000\tvalidation_0-mlogloss:0.19329\tvalidation_1-merror:0.00000\tvalidation_1-mlogloss:0.22146\n",
      "[6]\tvalidation_0-merror:0.00000\tvalidation_0-mlogloss:0.15325\tvalidation_1-merror:0.00000\tvalidation_1-mlogloss:0.18545\n",
      "[7]\tvalidation_0-merror:0.00000\tvalidation_0-mlogloss:0.12213\tvalidation_1-merror:0.00000\tvalidation_1-mlogloss:0.15576\n",
      "[8]\tvalidation_0-merror:0.00000\tvalidation_0-mlogloss:0.10029\tvalidation_1-merror:0.00000\tvalidation_1-mlogloss:0.13335\n",
      "[9]\tvalidation_0-merror:0.00000\tvalidation_0-mlogloss:0.08265\tvalidation_1-merror:0.00000\tvalidation_1-mlogloss:0.11389\n",
      "[10]\tvalidation_0-merror:0.00000\tvalidation_0-mlogloss:0.06881\tvalidation_1-merror:0.00000\tvalidation_1-mlogloss:0.10072\n",
      "[11]\tvalidation_0-merror:0.00000\tvalidation_0-mlogloss:0.05776\tvalidation_1-merror:0.00000\tvalidation_1-mlogloss:0.08656\n",
      "[12]\tvalidation_0-merror:0.00000\tvalidation_0-mlogloss:0.04957\tvalidation_1-merror:0.00000\tvalidation_1-mlogloss:0.08069\n",
      "[13]\tvalidation_0-merror:0.00000\tvalidation_0-mlogloss:0.04427\tvalidation_1-merror:0.00000\tvalidation_1-mlogloss:0.07440\n",
      "[14]\tvalidation_0-merror:0.00000\tvalidation_0-mlogloss:0.03871\tvalidation_1-merror:0.00000\tvalidation_1-mlogloss:0.06785\n",
      "[15]\tvalidation_0-merror:0.00000\tvalidation_0-mlogloss:0.03405\tvalidation_1-merror:0.00000\tvalidation_1-mlogloss:0.06307\n",
      "[16]\tvalidation_0-merror:0.00000\tvalidation_0-mlogloss:0.03090\tvalidation_1-merror:0.00000\tvalidation_1-mlogloss:0.05668\n",
      "[17]\tvalidation_0-merror:0.00000\tvalidation_0-mlogloss:0.02816\tvalidation_1-merror:0.00000\tvalidation_1-mlogloss:0.05059\n",
      "[18]\tvalidation_0-merror:0.00000\tvalidation_0-mlogloss:0.02526\tvalidation_1-merror:0.00000\tvalidation_1-mlogloss:0.04922\n",
      "[19]\tvalidation_0-merror:0.00000\tvalidation_0-mlogloss:0.02305\tvalidation_1-merror:0.00000\tvalidation_1-mlogloss:0.04819\n",
      "[20]\tvalidation_0-merror:0.00000\tvalidation_0-mlogloss:0.02100\tvalidation_1-merror:0.00000\tvalidation_1-mlogloss:0.04664\n",
      "[21]\tvalidation_0-merror:0.00000\tvalidation_0-mlogloss:0.01945\tvalidation_1-merror:0.00000\tvalidation_1-mlogloss:0.04630\n",
      "[22]\tvalidation_0-merror:0.00000\tvalidation_0-mlogloss:0.01795\tvalidation_1-merror:0.00000\tvalidation_1-mlogloss:0.04537\n",
      "[23]\tvalidation_0-merror:0.00000\tvalidation_0-mlogloss:0.01747\tvalidation_1-merror:0.00000\tvalidation_1-mlogloss:0.04388\n",
      "[24]\tvalidation_0-merror:0.00000\tvalidation_0-mlogloss:0.01701\tvalidation_1-merror:0.00000\tvalidation_1-mlogloss:0.04306\n",
      "[25]\tvalidation_0-merror:0.00000\tvalidation_0-mlogloss:0.01607\tvalidation_1-merror:0.00000\tvalidation_1-mlogloss:0.04226\n",
      "[26]\tvalidation_0-merror:0.00000\tvalidation_0-mlogloss:0.01566\tvalidation_1-merror:0.00000\tvalidation_1-mlogloss:0.04050\n",
      "[27]\tvalidation_0-merror:0.00000\tvalidation_0-mlogloss:0.01535\tvalidation_1-merror:0.00000\tvalidation_1-mlogloss:0.03953\n",
      "[28]\tvalidation_0-merror:0.00000\tvalidation_0-mlogloss:0.01513\tvalidation_1-merror:0.00000\tvalidation_1-mlogloss:0.03958\n",
      "[29]\tvalidation_0-merror:0.00000\tvalidation_0-mlogloss:0.01477\tvalidation_1-merror:0.00000\tvalidation_1-mlogloss:0.03911\n",
      "[30]\tvalidation_0-merror:0.00000\tvalidation_0-mlogloss:0.01455\tvalidation_1-merror:0.00000\tvalidation_1-mlogloss:0.03936\n",
      "[31]\tvalidation_0-merror:0.00000\tvalidation_0-mlogloss:0.01443\tvalidation_1-merror:0.00000\tvalidation_1-mlogloss:0.03879\n",
      "[32]\tvalidation_0-merror:0.00000\tvalidation_0-mlogloss:0.01428\tvalidation_1-merror:0.00000\tvalidation_1-mlogloss:0.03893\n",
      "[33]\tvalidation_0-merror:0.00000\tvalidation_0-mlogloss:0.01414\tvalidation_1-merror:0.00000\tvalidation_1-mlogloss:0.03846\n",
      "[34]\tvalidation_0-merror:0.00000\tvalidation_0-mlogloss:0.01398\tvalidation_1-merror:0.00000\tvalidation_1-mlogloss:0.03856\n",
      "[35]\tvalidation_0-merror:0.00000\tvalidation_0-mlogloss:0.01388\tvalidation_1-merror:0.00000\tvalidation_1-mlogloss:0.03838\n",
      "[36]\tvalidation_0-merror:0.00000\tvalidation_0-mlogloss:0.01373\tvalidation_1-merror:0.00000\tvalidation_1-mlogloss:0.03862\n",
      "[37]\tvalidation_0-merror:0.00000\tvalidation_0-mlogloss:0.01362\tvalidation_1-merror:0.00000\tvalidation_1-mlogloss:0.03816\n",
      "[38]\tvalidation_0-merror:0.00000\tvalidation_0-mlogloss:0.01350\tvalidation_1-merror:0.00000\tvalidation_1-mlogloss:0.03809\n",
      "[39]\tvalidation_0-merror:0.00000\tvalidation_0-mlogloss:0.01338\tvalidation_1-merror:0.00000\tvalidation_1-mlogloss:0.03737\n",
      "[40]\tvalidation_0-merror:0.00000\tvalidation_0-mlogloss:0.01328\tvalidation_1-merror:0.00000\tvalidation_1-mlogloss:0.03685\n",
      "[41]\tvalidation_0-merror:0.00000\tvalidation_0-mlogloss:0.01317\tvalidation_1-merror:0.00000\tvalidation_1-mlogloss:0.03635\n",
      "[42]\tvalidation_0-merror:0.00000\tvalidation_0-mlogloss:0.01304\tvalidation_1-merror:0.00000\tvalidation_1-mlogloss:0.03550\n",
      "[43]\tvalidation_0-merror:0.00000\tvalidation_0-mlogloss:0.01296\tvalidation_1-merror:0.00000\tvalidation_1-mlogloss:0.03514\n",
      "[44]\tvalidation_0-merror:0.00000\tvalidation_0-mlogloss:0.01296\tvalidation_1-merror:0.00000\tvalidation_1-mlogloss:0.03540\n",
      "[45]\tvalidation_0-merror:0.00000\tvalidation_0-mlogloss:0.01292\tvalidation_1-merror:0.00000\tvalidation_1-mlogloss:0.03520\n",
      "[46]\tvalidation_0-merror:0.00000\tvalidation_0-mlogloss:0.01285\tvalidation_1-merror:0.00000\tvalidation_1-mlogloss:0.03506\n",
      "[47]\tvalidation_0-merror:0.00000\tvalidation_0-mlogloss:0.01285\tvalidation_1-merror:0.00000\tvalidation_1-mlogloss:0.03511\n",
      "[48]\tvalidation_0-merror:0.00000\tvalidation_0-mlogloss:0.01275\tvalidation_1-merror:0.00000\tvalidation_1-mlogloss:0.03526\n",
      "[49]\tvalidation_0-merror:0.00000\tvalidation_0-mlogloss:0.01275\tvalidation_1-merror:0.00000\tvalidation_1-mlogloss:0.03531\n",
      "[50]\tvalidation_0-merror:0.00000\tvalidation_0-mlogloss:0.01266\tvalidation_1-merror:0.00000\tvalidation_1-mlogloss:0.03523\n"
     ]
    }
   ],
   "source": [
    "from xgboost import XGBClassifier\n",
    "\n",
    "my_model = XGBClassifier(\n",
    "    base_score=0.5,\n",
    "    objective='multi:softmax',\n",
    "    num_class=3,\n",
    "    \n",
    "    gamma=0,\n",
    "    max_depth=3,\n",
    "    learning_rate=0.3, \n",
    "    min_child_weight=1,\n",
    "    n_estimators=100,\n",
    "    subsample=0.8,\n",
    "    colsample_bynode=1,\n",
    "    colsample_bytree=0.8,\n",
    "    reg_alpha=0,\n",
    "    reg_lambda=1,\n",
    "\n",
    "    random_state=0,\n",
    "    booster='gbtree',\n",
    "    tree_method='hist',\n",
    "    seed=1234,\n",
    "    missing=None,\n",
    "    verbosity=1\n",
    ")\n",
    "\n",
    "print(my_model.get_xgb_params())\n",
    "\n",
    "trained = my_model.fit(\n",
    "    X_train, y_train, early_stopping_rounds=5,\n",
    "    # the last metric is used for early stopping\n",
    "    eval_metric=[\"merror\", \"mlogloss\"],\n",
    "    eval_set=[(X_train, y_train), (X_validation, y_validation)], verbose=True)\n"
   ]
  },
  {
   "cell_type": "markdown",
   "id": "23c42597",
   "metadata": {},
   "source": [
    "# Softmax Regression In Neural Network Style"
   ]
  },
  {
   "cell_type": "code",
   "execution_count": 37,
   "id": "fd3cf67b",
   "metadata": {},
   "outputs": [],
   "source": [
    "import tensorflow as tf\n",
    "from tensorflow import keras as keras\n",
    "from tensorflow.keras.optimizers import Adam\n",
    "\n",
    "from tensorflow.keras.callbacks import EarlyStopping, ReduceLROnPlateau\n",
    "from tensorflow.keras.layers import Input, Reshape, Dense\n",
    "from tensorflow.keras.models import Model\n",
    "from tensorflow.keras.metrics import SparseCategoricalAccuracy\n",
    "\n"
   ]
  },
  {
   "cell_type": "code",
   "execution_count": 89,
   "id": "c34ded17",
   "metadata": {},
   "outputs": [],
   "source": [
    "def build_softmax_regression():\n",
    "    inputs = Input(shape=(13,))\n",
    "    l = inputs    \n",
    "    l = Dense(3, activation=\"softmax\", name='fc')(l)\n",
    "    my_model = Model(inputs=inputs, outputs=l)\n",
    "    print(my_model.summary())\n",
    "    return my_model\n",
    "\n",
    "def model_train(X_train, y_train, X_val, y_val, model):\n",
    "    print(model.summary())\n",
    "    early_stop = EarlyStopping(\n",
    "        monitor=\"val_loss\", min_delta=1e-5, patience=3,\n",
    "        verbose=0, mode=\"auto\", baseline=None, restore_best_weights=True\n",
    "    )\n",
    "    reduce_lr = ReduceLROnPlateau(monitor='val_loss', factor=0.8, patience=2, min_lr=1e-4)\n",
    "\n",
    "    callbacks_list = [early_stop, reduce_lr]\n",
    "\n",
    "    # optimizer: gradient descent implementation\n",
    "    adam_wn = Adam(learning_rate=0.1)\n",
    "    \n",
    "    # compile model with loss and optimizer; loss function needs to match the intention and the output of the last layer\n",
    "    model.compile(\n",
    "        loss=\"sparse_categorical_crossentropy\", optimizer=adam_wn,\n",
    "        metrics=[SparseCategoricalAccuracy()]\n",
    "    )\n",
    "    \n",
    "    # kick off model training\n",
    "    return model.fit(\n",
    "        x=X_train, y=y_train, validation_data=(X_val, y_val), batch_size=178,\n",
    "        epochs=1000, verbose=1, shuffle=True,\n",
    "        callbacks=callbacks_list)\n"
   ]
  },
  {
   "cell_type": "code",
   "execution_count": 91,
   "id": "2f5d208a",
   "metadata": {},
   "outputs": [],
   "source": [
    "from sklearn.preprocessing import StandardScaler\n",
    "\n",
    "scaler = StandardScaler().fit(X_train)"
   ]
  },
  {
   "cell_type": "code",
   "execution_count": 92,
   "id": "a2f44c93",
   "metadata": {},
   "outputs": [],
   "source": [
    "X_train_scaled = scaler.transform(X_train)\n",
    "X_validation_scaled = scaler.transform(X_validation)"
   ]
  },
  {
   "cell_type": "code",
   "execution_count": 111,
   "id": "7544b2db",
   "metadata": {},
   "outputs": [
    {
     "name": "stdout",
     "output_type": "stream",
     "text": [
      "Model: \"model_16\"\n",
      "_________________________________________________________________\n",
      "Layer (type)                 Output Shape              Param #   \n",
      "=================================================================\n",
      "input_17 (InputLayer)        [(None, 13)]              0         \n",
      "_________________________________________________________________\n",
      "fc (Dense)                   (None, 3)                 42        \n",
      "=================================================================\n",
      "Total params: 42\n",
      "Trainable params: 42\n",
      "Non-trainable params: 0\n",
      "_________________________________________________________________\n",
      "None\n",
      "Model: \"model_16\"\n",
      "_________________________________________________________________\n",
      "Layer (type)                 Output Shape              Param #   \n",
      "=================================================================\n",
      "input_17 (InputLayer)        [(None, 13)]              0         \n",
      "_________________________________________________________________\n",
      "fc (Dense)                   (None, 3)                 42        \n",
      "=================================================================\n",
      "Total params: 42\n",
      "Trainable params: 42\n",
      "Non-trainable params: 0\n",
      "_________________________________________________________________\n",
      "None\n",
      "Epoch 1/1000\n",
      "1/1 [==============================] - 0s 293ms/step - loss: 0.3777 - sparse_categorical_accuracy: 0.8380 - val_loss: 0.1825 - val_sparse_categorical_accuracy: 0.9444\n",
      "Epoch 2/1000\n",
      "1/1 [==============================] - 0s 16ms/step - loss: 0.2104 - sparse_categorical_accuracy: 0.9366 - val_loss: 0.1090 - val_sparse_categorical_accuracy: 0.9722\n",
      "Epoch 3/1000\n",
      "1/1 [==============================] - 0s 16ms/step - loss: 0.1405 - sparse_categorical_accuracy: 0.9789 - val_loss: 0.0709 - val_sparse_categorical_accuracy: 0.9722\n",
      "Epoch 4/1000\n",
      "1/1 [==============================] - 0s 17ms/step - loss: 0.1052 - sparse_categorical_accuracy: 0.9789 - val_loss: 0.0480 - val_sparse_categorical_accuracy: 1.0000\n",
      "Epoch 5/1000\n",
      "1/1 [==============================] - 0s 17ms/step - loss: 0.0838 - sparse_categorical_accuracy: 0.9859 - val_loss: 0.0336 - val_sparse_categorical_accuracy: 1.0000\n",
      "Epoch 6/1000\n",
      "1/1 [==============================] - 0s 16ms/step - loss: 0.0695 - sparse_categorical_accuracy: 0.9859 - val_loss: 0.0246 - val_sparse_categorical_accuracy: 1.0000\n",
      "Epoch 7/1000\n",
      "1/1 [==============================] - 0s 16ms/step - loss: 0.0589 - sparse_categorical_accuracy: 0.9859 - val_loss: 0.0189 - val_sparse_categorical_accuracy: 1.0000\n",
      "Epoch 8/1000\n",
      "1/1 [==============================] - 0s 16ms/step - loss: 0.0505 - sparse_categorical_accuracy: 0.9859 - val_loss: 0.0153 - val_sparse_categorical_accuracy: 1.0000\n",
      "Epoch 9/1000\n",
      "1/1 [==============================] - 0s 16ms/step - loss: 0.0438 - sparse_categorical_accuracy: 0.9930 - val_loss: 0.0128 - val_sparse_categorical_accuracy: 1.0000\n",
      "Epoch 10/1000\n",
      "1/1 [==============================] - 0s 16ms/step - loss: 0.0385 - sparse_categorical_accuracy: 0.9930 - val_loss: 0.0111 - val_sparse_categorical_accuracy: 1.0000\n",
      "Epoch 11/1000\n",
      "1/1 [==============================] - 0s 16ms/step - loss: 0.0344 - sparse_categorical_accuracy: 1.0000 - val_loss: 0.0098 - val_sparse_categorical_accuracy: 1.0000\n",
      "Epoch 12/1000\n",
      "1/1 [==============================] - 0s 19ms/step - loss: 0.0313 - sparse_categorical_accuracy: 1.0000 - val_loss: 0.0088 - val_sparse_categorical_accuracy: 1.0000\n",
      "Epoch 13/1000\n",
      "1/1 [==============================] - 0s 20ms/step - loss: 0.0288 - sparse_categorical_accuracy: 1.0000 - val_loss: 0.0079 - val_sparse_categorical_accuracy: 1.0000\n",
      "Epoch 14/1000\n",
      "1/1 [==============================] - 0s 17ms/step - loss: 0.0267 - sparse_categorical_accuracy: 1.0000 - val_loss: 0.0072 - val_sparse_categorical_accuracy: 1.0000\n",
      "Epoch 15/1000\n",
      "1/1 [==============================] - 0s 16ms/step - loss: 0.0249 - sparse_categorical_accuracy: 1.0000 - val_loss: 0.0065 - val_sparse_categorical_accuracy: 1.0000\n",
      "Epoch 16/1000\n",
      "1/1 [==============================] - 0s 16ms/step - loss: 0.0231 - sparse_categorical_accuracy: 1.0000 - val_loss: 0.0059 - val_sparse_categorical_accuracy: 1.0000\n",
      "Epoch 17/1000\n",
      "1/1 [==============================] - 0s 16ms/step - loss: 0.0214 - sparse_categorical_accuracy: 1.0000 - val_loss: 0.0054 - val_sparse_categorical_accuracy: 1.0000\n",
      "Epoch 18/1000\n",
      "1/1 [==============================] - 0s 17ms/step - loss: 0.0198 - sparse_categorical_accuracy: 1.0000 - val_loss: 0.0050 - val_sparse_categorical_accuracy: 1.0000\n",
      "Epoch 19/1000\n",
      "1/1 [==============================] - 0s 16ms/step - loss: 0.0183 - sparse_categorical_accuracy: 1.0000 - val_loss: 0.0046 - val_sparse_categorical_accuracy: 1.0000\n",
      "Epoch 20/1000\n",
      "1/1 [==============================] - 0s 19ms/step - loss: 0.0169 - sparse_categorical_accuracy: 1.0000 - val_loss: 0.0043 - val_sparse_categorical_accuracy: 1.0000\n",
      "Epoch 21/1000\n",
      "1/1 [==============================] - 0s 16ms/step - loss: 0.0157 - sparse_categorical_accuracy: 1.0000 - val_loss: 0.0041 - val_sparse_categorical_accuracy: 1.0000\n",
      "Epoch 22/1000\n",
      "1/1 [==============================] - 0s 17ms/step - loss: 0.0146 - sparse_categorical_accuracy: 1.0000 - val_loss: 0.0039 - val_sparse_categorical_accuracy: 1.0000\n",
      "Epoch 23/1000\n",
      "1/1 [==============================] - 0s 17ms/step - loss: 0.0137 - sparse_categorical_accuracy: 1.0000 - val_loss: 0.0038 - val_sparse_categorical_accuracy: 1.0000\n",
      "Epoch 24/1000\n",
      "1/1 [==============================] - 0s 16ms/step - loss: 0.0129 - sparse_categorical_accuracy: 1.0000 - val_loss: 0.0037 - val_sparse_categorical_accuracy: 1.0000\n",
      "Epoch 25/1000\n",
      "1/1 [==============================] - 0s 17ms/step - loss: 0.0122 - sparse_categorical_accuracy: 1.0000 - val_loss: 0.0037 - val_sparse_categorical_accuracy: 1.0000\n",
      "Epoch 26/1000\n",
      "1/1 [==============================] - 0s 16ms/step - loss: 0.0117 - sparse_categorical_accuracy: 1.0000 - val_loss: 0.0036 - val_sparse_categorical_accuracy: 1.0000\n",
      "Epoch 27/1000\n",
      "1/1 [==============================] - 0s 16ms/step - loss: 0.0111 - sparse_categorical_accuracy: 1.0000 - val_loss: 0.0036 - val_sparse_categorical_accuracy: 1.0000\n",
      "Epoch 28/1000\n",
      "1/1 [==============================] - 0s 16ms/step - loss: 0.0107 - sparse_categorical_accuracy: 1.0000 - val_loss: 0.0036 - val_sparse_categorical_accuracy: 1.0000\n",
      "Epoch 29/1000\n",
      "1/1 [==============================] - 0s 18ms/step - loss: 0.0104 - sparse_categorical_accuracy: 1.0000 - val_loss: 0.0036 - val_sparse_categorical_accuracy: 1.0000\n",
      "Epoch 30/1000\n",
      "1/1 [==============================] - 0s 16ms/step - loss: 0.0100 - sparse_categorical_accuracy: 1.0000 - val_loss: 0.0036 - val_sparse_categorical_accuracy: 1.0000\n"
     ]
    },
    {
     "data": {
      "text/plain": [
       "<keras.callbacks.History at 0x7fd749cf3690>"
      ]
     },
     "execution_count": 111,
     "metadata": {},
     "output_type": "execute_result"
    }
   ],
   "source": [
    "\n",
    "my_tf_model = build_softmax_regression()\n",
    "\n",
    "model_train(X_train_scaled, y_train, X_validation_scaled, y_validation, my_tf_model)"
   ]
  },
  {
   "cell_type": "code",
   "execution_count": null,
   "id": "ac25d3cf",
   "metadata": {},
   "outputs": [],
   "source": []
  }
 ],
 "metadata": {
  "kernelspec": {
   "display_name": "Python 3 (ipykernel)",
   "language": "python",
   "name": "python3"
  },
  "language_info": {
   "codemirror_mode": {
    "name": "ipython",
    "version": 3
   },
   "file_extension": ".py",
   "mimetype": "text/x-python",
   "name": "python",
   "nbconvert_exporter": "python",
   "pygments_lexer": "ipython3",
   "version": "3.7.11"
  }
 },
 "nbformat": 4,
 "nbformat_minor": 5
}
